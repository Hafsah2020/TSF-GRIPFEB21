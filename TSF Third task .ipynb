{
 "cells": [
  {
   "cell_type": "markdown",
   "metadata": {
    "slideshow": {
     "slide_type": "notes"
    }
   },
   "source": [
    "# Hafsah Anibaba"
   ]
  },
  {
   "cell_type": "markdown",
   "metadata": {
    "slideshow": {
     "slide_type": "slide"
    }
   },
   "source": [
    "# The Spark Foundation internship\n",
    "# #GRIPFEB21\n",
    "# Task #3 :- Exploratory Data Analysis on Sample Superstore dataset"
   ]
  },
  {
   "cell_type": "markdown",
   "metadata": {},
   "source": [
    "### Tasks\n",
    "* To find  weak areas where you can work to make more proﬁt.  \n",
    "* To find business problems"
   ]
  },
  {
   "cell_type": "code",
   "execution_count": 1,
   "metadata": {},
   "outputs": [],
   "source": [
    "import numpy as np\n",
    "import pandas as pd\n",
    "import matplotlib.pyplot as plt\n",
    "import seaborn as sns\n",
    "%matplotlib inline"
   ]
  },
  {
   "cell_type": "code",
   "execution_count": 2,
   "metadata": {},
   "outputs": [],
   "source": [
    "data = pd.read_csv('SampleSuperstore.csv')"
   ]
  },
  {
   "cell_type": "code",
   "execution_count": 3,
   "metadata": {},
   "outputs": [
    {
     "data": {
      "text/html": [
       "<div>\n",
       "<style scoped>\n",
       "    .dataframe tbody tr th:only-of-type {\n",
       "        vertical-align: middle;\n",
       "    }\n",
       "\n",
       "    .dataframe tbody tr th {\n",
       "        vertical-align: top;\n",
       "    }\n",
       "\n",
       "    .dataframe thead th {\n",
       "        text-align: right;\n",
       "    }\n",
       "</style>\n",
       "<table border=\"1\" class=\"dataframe\">\n",
       "  <thead>\n",
       "    <tr style=\"text-align: right;\">\n",
       "      <th></th>\n",
       "      <th>Ship Mode</th>\n",
       "      <th>Segment</th>\n",
       "      <th>Country</th>\n",
       "      <th>City</th>\n",
       "      <th>State</th>\n",
       "      <th>Postal Code</th>\n",
       "      <th>Region</th>\n",
       "      <th>Category</th>\n",
       "      <th>Sub-Category</th>\n",
       "      <th>Sales</th>\n",
       "      <th>Quantity</th>\n",
       "      <th>Discount</th>\n",
       "      <th>Profit</th>\n",
       "    </tr>\n",
       "  </thead>\n",
       "  <tbody>\n",
       "    <tr>\n",
       "      <th>0</th>\n",
       "      <td>Second Class</td>\n",
       "      <td>Consumer</td>\n",
       "      <td>United States</td>\n",
       "      <td>Henderson</td>\n",
       "      <td>Kentucky</td>\n",
       "      <td>42420</td>\n",
       "      <td>South</td>\n",
       "      <td>Furniture</td>\n",
       "      <td>Bookcases</td>\n",
       "      <td>261.9600</td>\n",
       "      <td>2</td>\n",
       "      <td>0.00</td>\n",
       "      <td>41.9136</td>\n",
       "    </tr>\n",
       "    <tr>\n",
       "      <th>1</th>\n",
       "      <td>Second Class</td>\n",
       "      <td>Consumer</td>\n",
       "      <td>United States</td>\n",
       "      <td>Henderson</td>\n",
       "      <td>Kentucky</td>\n",
       "      <td>42420</td>\n",
       "      <td>South</td>\n",
       "      <td>Furniture</td>\n",
       "      <td>Chairs</td>\n",
       "      <td>731.9400</td>\n",
       "      <td>3</td>\n",
       "      <td>0.00</td>\n",
       "      <td>219.5820</td>\n",
       "    </tr>\n",
       "    <tr>\n",
       "      <th>2</th>\n",
       "      <td>Second Class</td>\n",
       "      <td>Corporate</td>\n",
       "      <td>United States</td>\n",
       "      <td>Los Angeles</td>\n",
       "      <td>California</td>\n",
       "      <td>90036</td>\n",
       "      <td>West</td>\n",
       "      <td>Office Supplies</td>\n",
       "      <td>Labels</td>\n",
       "      <td>14.6200</td>\n",
       "      <td>2</td>\n",
       "      <td>0.00</td>\n",
       "      <td>6.8714</td>\n",
       "    </tr>\n",
       "    <tr>\n",
       "      <th>3</th>\n",
       "      <td>Standard Class</td>\n",
       "      <td>Consumer</td>\n",
       "      <td>United States</td>\n",
       "      <td>Fort Lauderdale</td>\n",
       "      <td>Florida</td>\n",
       "      <td>33311</td>\n",
       "      <td>South</td>\n",
       "      <td>Furniture</td>\n",
       "      <td>Tables</td>\n",
       "      <td>957.5775</td>\n",
       "      <td>5</td>\n",
       "      <td>0.45</td>\n",
       "      <td>-383.0310</td>\n",
       "    </tr>\n",
       "    <tr>\n",
       "      <th>4</th>\n",
       "      <td>Standard Class</td>\n",
       "      <td>Consumer</td>\n",
       "      <td>United States</td>\n",
       "      <td>Fort Lauderdale</td>\n",
       "      <td>Florida</td>\n",
       "      <td>33311</td>\n",
       "      <td>South</td>\n",
       "      <td>Office Supplies</td>\n",
       "      <td>Storage</td>\n",
       "      <td>22.3680</td>\n",
       "      <td>2</td>\n",
       "      <td>0.20</td>\n",
       "      <td>2.5164</td>\n",
       "    </tr>\n",
       "  </tbody>\n",
       "</table>\n",
       "</div>"
      ],
      "text/plain": [
       "        Ship Mode    Segment        Country             City       State  \\\n",
       "0    Second Class   Consumer  United States        Henderson    Kentucky   \n",
       "1    Second Class   Consumer  United States        Henderson    Kentucky   \n",
       "2    Second Class  Corporate  United States      Los Angeles  California   \n",
       "3  Standard Class   Consumer  United States  Fort Lauderdale     Florida   \n",
       "4  Standard Class   Consumer  United States  Fort Lauderdale     Florida   \n",
       "\n",
       "   Postal Code Region         Category Sub-Category     Sales  Quantity  \\\n",
       "0        42420  South        Furniture    Bookcases  261.9600         2   \n",
       "1        42420  South        Furniture       Chairs  731.9400         3   \n",
       "2        90036   West  Office Supplies       Labels   14.6200         2   \n",
       "3        33311  South        Furniture       Tables  957.5775         5   \n",
       "4        33311  South  Office Supplies      Storage   22.3680         2   \n",
       "\n",
       "   Discount    Profit  \n",
       "0      0.00   41.9136  \n",
       "1      0.00  219.5820  \n",
       "2      0.00    6.8714  \n",
       "3      0.45 -383.0310  \n",
       "4      0.20    2.5164  "
      ]
     },
     "execution_count": 3,
     "metadata": {},
     "output_type": "execute_result"
    }
   ],
   "source": [
    "data.head()"
   ]
  },
  {
   "cell_type": "code",
   "execution_count": 4,
   "metadata": {},
   "outputs": [
    {
     "data": {
      "text/plain": [
       "Ship Mode       0\n",
       "Segment         0\n",
       "Country         0\n",
       "City            0\n",
       "State           0\n",
       "Postal Code     0\n",
       "Region          0\n",
       "Category        0\n",
       "Sub-Category    0\n",
       "Sales           0\n",
       "Quantity        0\n",
       "Discount        0\n",
       "Profit          0\n",
       "dtype: int64"
      ]
     },
     "execution_count": 4,
     "metadata": {},
     "output_type": "execute_result"
    }
   ],
   "source": [
    "data.isnull().sum()"
   ]
  },
  {
   "cell_type": "code",
   "execution_count": 5,
   "metadata": {},
   "outputs": [
    {
     "data": {
      "text/html": [
       "<div>\n",
       "<style scoped>\n",
       "    .dataframe tbody tr th:only-of-type {\n",
       "        vertical-align: middle;\n",
       "    }\n",
       "\n",
       "    .dataframe tbody tr th {\n",
       "        vertical-align: top;\n",
       "    }\n",
       "\n",
       "    .dataframe thead th {\n",
       "        text-align: right;\n",
       "    }\n",
       "</style>\n",
       "<table border=\"1\" class=\"dataframe\">\n",
       "  <thead>\n",
       "    <tr style=\"text-align: right;\">\n",
       "      <th></th>\n",
       "      <th>Ship Mode</th>\n",
       "      <th>Segment</th>\n",
       "      <th>Country</th>\n",
       "      <th>City</th>\n",
       "      <th>State</th>\n",
       "      <th>Postal Code</th>\n",
       "      <th>Region</th>\n",
       "      <th>Category</th>\n",
       "      <th>Sub-Category</th>\n",
       "      <th>Sales</th>\n",
       "      <th>Quantity</th>\n",
       "      <th>Discount</th>\n",
       "      <th>Profit</th>\n",
       "    </tr>\n",
       "  </thead>\n",
       "  <tbody>\n",
       "    <tr>\n",
       "      <th>count</th>\n",
       "      <td>9994</td>\n",
       "      <td>9994</td>\n",
       "      <td>9994</td>\n",
       "      <td>9994</td>\n",
       "      <td>9994</td>\n",
       "      <td>9994.000000</td>\n",
       "      <td>9994</td>\n",
       "      <td>9994</td>\n",
       "      <td>9994</td>\n",
       "      <td>9994.000000</td>\n",
       "      <td>9994.000000</td>\n",
       "      <td>9994.000000</td>\n",
       "      <td>9994.000000</td>\n",
       "    </tr>\n",
       "    <tr>\n",
       "      <th>unique</th>\n",
       "      <td>4</td>\n",
       "      <td>3</td>\n",
       "      <td>1</td>\n",
       "      <td>531</td>\n",
       "      <td>49</td>\n",
       "      <td>NaN</td>\n",
       "      <td>4</td>\n",
       "      <td>3</td>\n",
       "      <td>17</td>\n",
       "      <td>NaN</td>\n",
       "      <td>NaN</td>\n",
       "      <td>NaN</td>\n",
       "      <td>NaN</td>\n",
       "    </tr>\n",
       "    <tr>\n",
       "      <th>top</th>\n",
       "      <td>Standard Class</td>\n",
       "      <td>Consumer</td>\n",
       "      <td>United States</td>\n",
       "      <td>New York City</td>\n",
       "      <td>California</td>\n",
       "      <td>NaN</td>\n",
       "      <td>West</td>\n",
       "      <td>Office Supplies</td>\n",
       "      <td>Binders</td>\n",
       "      <td>NaN</td>\n",
       "      <td>NaN</td>\n",
       "      <td>NaN</td>\n",
       "      <td>NaN</td>\n",
       "    </tr>\n",
       "    <tr>\n",
       "      <th>freq</th>\n",
       "      <td>5968</td>\n",
       "      <td>5191</td>\n",
       "      <td>9994</td>\n",
       "      <td>915</td>\n",
       "      <td>2001</td>\n",
       "      <td>NaN</td>\n",
       "      <td>3203</td>\n",
       "      <td>6026</td>\n",
       "      <td>1523</td>\n",
       "      <td>NaN</td>\n",
       "      <td>NaN</td>\n",
       "      <td>NaN</td>\n",
       "      <td>NaN</td>\n",
       "    </tr>\n",
       "    <tr>\n",
       "      <th>mean</th>\n",
       "      <td>NaN</td>\n",
       "      <td>NaN</td>\n",
       "      <td>NaN</td>\n",
       "      <td>NaN</td>\n",
       "      <td>NaN</td>\n",
       "      <td>55190.379428</td>\n",
       "      <td>NaN</td>\n",
       "      <td>NaN</td>\n",
       "      <td>NaN</td>\n",
       "      <td>229.858001</td>\n",
       "      <td>3.789574</td>\n",
       "      <td>0.156203</td>\n",
       "      <td>28.656896</td>\n",
       "    </tr>\n",
       "    <tr>\n",
       "      <th>std</th>\n",
       "      <td>NaN</td>\n",
       "      <td>NaN</td>\n",
       "      <td>NaN</td>\n",
       "      <td>NaN</td>\n",
       "      <td>NaN</td>\n",
       "      <td>32063.693350</td>\n",
       "      <td>NaN</td>\n",
       "      <td>NaN</td>\n",
       "      <td>NaN</td>\n",
       "      <td>623.245101</td>\n",
       "      <td>2.225110</td>\n",
       "      <td>0.206452</td>\n",
       "      <td>234.260108</td>\n",
       "    </tr>\n",
       "    <tr>\n",
       "      <th>min</th>\n",
       "      <td>NaN</td>\n",
       "      <td>NaN</td>\n",
       "      <td>NaN</td>\n",
       "      <td>NaN</td>\n",
       "      <td>NaN</td>\n",
       "      <td>1040.000000</td>\n",
       "      <td>NaN</td>\n",
       "      <td>NaN</td>\n",
       "      <td>NaN</td>\n",
       "      <td>0.444000</td>\n",
       "      <td>1.000000</td>\n",
       "      <td>0.000000</td>\n",
       "      <td>-6599.978000</td>\n",
       "    </tr>\n",
       "    <tr>\n",
       "      <th>25%</th>\n",
       "      <td>NaN</td>\n",
       "      <td>NaN</td>\n",
       "      <td>NaN</td>\n",
       "      <td>NaN</td>\n",
       "      <td>NaN</td>\n",
       "      <td>23223.000000</td>\n",
       "      <td>NaN</td>\n",
       "      <td>NaN</td>\n",
       "      <td>NaN</td>\n",
       "      <td>17.280000</td>\n",
       "      <td>2.000000</td>\n",
       "      <td>0.000000</td>\n",
       "      <td>1.728750</td>\n",
       "    </tr>\n",
       "    <tr>\n",
       "      <th>50%</th>\n",
       "      <td>NaN</td>\n",
       "      <td>NaN</td>\n",
       "      <td>NaN</td>\n",
       "      <td>NaN</td>\n",
       "      <td>NaN</td>\n",
       "      <td>56430.500000</td>\n",
       "      <td>NaN</td>\n",
       "      <td>NaN</td>\n",
       "      <td>NaN</td>\n",
       "      <td>54.490000</td>\n",
       "      <td>3.000000</td>\n",
       "      <td>0.200000</td>\n",
       "      <td>8.666500</td>\n",
       "    </tr>\n",
       "    <tr>\n",
       "      <th>75%</th>\n",
       "      <td>NaN</td>\n",
       "      <td>NaN</td>\n",
       "      <td>NaN</td>\n",
       "      <td>NaN</td>\n",
       "      <td>NaN</td>\n",
       "      <td>90008.000000</td>\n",
       "      <td>NaN</td>\n",
       "      <td>NaN</td>\n",
       "      <td>NaN</td>\n",
       "      <td>209.940000</td>\n",
       "      <td>5.000000</td>\n",
       "      <td>0.200000</td>\n",
       "      <td>29.364000</td>\n",
       "    </tr>\n",
       "    <tr>\n",
       "      <th>max</th>\n",
       "      <td>NaN</td>\n",
       "      <td>NaN</td>\n",
       "      <td>NaN</td>\n",
       "      <td>NaN</td>\n",
       "      <td>NaN</td>\n",
       "      <td>99301.000000</td>\n",
       "      <td>NaN</td>\n",
       "      <td>NaN</td>\n",
       "      <td>NaN</td>\n",
       "      <td>22638.480000</td>\n",
       "      <td>14.000000</td>\n",
       "      <td>0.800000</td>\n",
       "      <td>8399.976000</td>\n",
       "    </tr>\n",
       "  </tbody>\n",
       "</table>\n",
       "</div>"
      ],
      "text/plain": [
       "             Ship Mode   Segment        Country           City       State  \\\n",
       "count             9994      9994           9994           9994        9994   \n",
       "unique               4         3              1            531          49   \n",
       "top     Standard Class  Consumer  United States  New York City  California   \n",
       "freq              5968      5191           9994            915        2001   \n",
       "mean               NaN       NaN            NaN            NaN         NaN   \n",
       "std                NaN       NaN            NaN            NaN         NaN   \n",
       "min                NaN       NaN            NaN            NaN         NaN   \n",
       "25%                NaN       NaN            NaN            NaN         NaN   \n",
       "50%                NaN       NaN            NaN            NaN         NaN   \n",
       "75%                NaN       NaN            NaN            NaN         NaN   \n",
       "max                NaN       NaN            NaN            NaN         NaN   \n",
       "\n",
       "         Postal Code Region         Category Sub-Category         Sales  \\\n",
       "count    9994.000000   9994             9994         9994   9994.000000   \n",
       "unique           NaN      4                3           17           NaN   \n",
       "top              NaN   West  Office Supplies      Binders           NaN   \n",
       "freq             NaN   3203             6026         1523           NaN   \n",
       "mean    55190.379428    NaN              NaN          NaN    229.858001   \n",
       "std     32063.693350    NaN              NaN          NaN    623.245101   \n",
       "min      1040.000000    NaN              NaN          NaN      0.444000   \n",
       "25%     23223.000000    NaN              NaN          NaN     17.280000   \n",
       "50%     56430.500000    NaN              NaN          NaN     54.490000   \n",
       "75%     90008.000000    NaN              NaN          NaN    209.940000   \n",
       "max     99301.000000    NaN              NaN          NaN  22638.480000   \n",
       "\n",
       "           Quantity     Discount       Profit  \n",
       "count   9994.000000  9994.000000  9994.000000  \n",
       "unique          NaN          NaN          NaN  \n",
       "top             NaN          NaN          NaN  \n",
       "freq            NaN          NaN          NaN  \n",
       "mean       3.789574     0.156203    28.656896  \n",
       "std        2.225110     0.206452   234.260108  \n",
       "min        1.000000     0.000000 -6599.978000  \n",
       "25%        2.000000     0.000000     1.728750  \n",
       "50%        3.000000     0.200000     8.666500  \n",
       "75%        5.000000     0.200000    29.364000  \n",
       "max       14.000000     0.800000  8399.976000  "
      ]
     },
     "execution_count": 5,
     "metadata": {},
     "output_type": "execute_result"
    }
   ],
   "source": [
    "data.describe(include = 'all')"
   ]
  },
  {
   "cell_type": "code",
   "execution_count": 6,
   "metadata": {},
   "outputs": [],
   "source": [
    "group = data[['Region','State','Ship Mode','Segment','Category','Sub-Category','Sales','Profit']]"
   ]
  },
  {
   "cell_type": "code",
   "execution_count": 7,
   "metadata": {},
   "outputs": [
    {
     "data": {
      "text/html": [
       "<div>\n",
       "<style scoped>\n",
       "    .dataframe tbody tr th:only-of-type {\n",
       "        vertical-align: middle;\n",
       "    }\n",
       "\n",
       "    .dataframe tbody tr th {\n",
       "        vertical-align: top;\n",
       "    }\n",
       "\n",
       "    .dataframe thead th {\n",
       "        text-align: right;\n",
       "    }\n",
       "</style>\n",
       "<table border=\"1\" class=\"dataframe\">\n",
       "  <thead>\n",
       "    <tr style=\"text-align: right;\">\n",
       "      <th></th>\n",
       "      <th>Sales</th>\n",
       "      <th>Profit</th>\n",
       "    </tr>\n",
       "    <tr>\n",
       "      <th>Region</th>\n",
       "      <th></th>\n",
       "      <th></th>\n",
       "    </tr>\n",
       "  </thead>\n",
       "  <tbody>\n",
       "    <tr>\n",
       "      <th>Central</th>\n",
       "      <td>501239.8908</td>\n",
       "      <td>39706.3625</td>\n",
       "    </tr>\n",
       "    <tr>\n",
       "      <th>East</th>\n",
       "      <td>678781.2400</td>\n",
       "      <td>91522.7800</td>\n",
       "    </tr>\n",
       "    <tr>\n",
       "      <th>South</th>\n",
       "      <td>391721.9050</td>\n",
       "      <td>46749.4303</td>\n",
       "    </tr>\n",
       "    <tr>\n",
       "      <th>West</th>\n",
       "      <td>725457.8245</td>\n",
       "      <td>108418.4489</td>\n",
       "    </tr>\n",
       "  </tbody>\n",
       "</table>\n",
       "</div>"
      ],
      "text/plain": [
       "               Sales       Profit\n",
       "Region                           \n",
       "Central  501239.8908   39706.3625\n",
       "East     678781.2400   91522.7800\n",
       "South    391721.9050   46749.4303\n",
       "West     725457.8245  108418.4489"
      ]
     },
     "execution_count": 7,
     "metadata": {},
     "output_type": "execute_result"
    }
   ],
   "source": [
    "# Total Sales,Profit made in each region\n",
    "group.groupby('Region' ).sum()"
   ]
  },
  {
   "cell_type": "code",
   "execution_count": 8,
   "metadata": {},
   "outputs": [
    {
     "data": {
      "text/plain": [
       "Text(0.5, 1.0, 'Total Profit made in each region')"
      ]
     },
     "execution_count": 8,
     "metadata": {},
     "output_type": "execute_result"
    },
    {
     "data": {
      "image/png": "[encoded data removed]",
      "text/plain": [
       "<Figure size 360x360 with 1 Axes>"
      ]
     },
     "metadata": {
      "needs_background": "light"
     },
     "output_type": "display_data"
    }
   ],
   "source": [
    "sns.catplot(x='Region',y ='Profit', data = group, kind = 'bar', ci = None)\n",
    "plt.title('Total Profit made in each region')"
   ]
  },
  {
   "cell_type": "markdown",
   "metadata": {},
   "source": [
    "### The  profit in the central region is less compared to other regions"
   ]
  },
  {
   "cell_type": "code",
   "execution_count": 9,
   "metadata": {
    "scrolled": true
   },
   "outputs": [
    {
     "data": {
      "text/plain": [
       "Text(0.5, 1.0, 'Total Profit made in each Category with respect to shipmode')"
      ]
     },
     "execution_count": 9,
     "metadata": {},
     "output_type": "execute_result"
    },
    {
     "data": {
      "image/png": "[encoded data removed]",
      "text/plain": [
       "<Figure size 471.125x360 with 1 Axes>"
      ]
     },
     "metadata": {
      "needs_background": "light"
     },
     "output_type": "display_data"
    }
   ],
   "source": [
    "sns.catplot(x ='Category', y= 'Profit', hue = 'Ship Mode', data = data[['Ship Mode','Profit','Category']][data['Profit'] < 0], kind ='bar', ci =None, estimator = sum)\n",
    "plt.title('Total Profit made in each Category with respect to shipmode')"
   ]
  },
  {
   "cell_type": "code",
   "execution_count": 10,
   "metadata": {
    "scrolled": true
   },
   "outputs": [
    {
     "data": {
      "text/plain": [
       "Text(0.5, 1.0, 'Total Profit made in each Segment with respect to shipmode')"
      ]
     },
     "execution_count": 10,
     "metadata": {},
     "output_type": "execute_result"
    },
    {
     "data": {
      "image/png": "[encoded data removed]",
      "text/plain": [
       "<Figure size 471.125x360 with 1 Axes>"
      ]
     },
     "metadata": {
      "needs_background": "light"
     },
     "output_type": "display_data"
    }
   ],
   "source": [
    "sns.catplot(x ='Segment', y= 'Profit', hue = 'Ship Mode', data = data[['Ship Mode','Profit','Segment']][data['Profit'] < 0], kind ='bar', ci =None, estimator = sum)\n",
    "plt.title('Total Profit made in each Segment with respect to shipmode')"
   ]
  },
  {
   "cell_type": "code",
   "execution_count": 11,
   "metadata": {},
   "outputs": [],
   "source": [
    "# Total Sales,Profit made in each region\n",
    "state_profit = group.groupby('State', as_index=False).sum().sort_values('Profit', ascending = False)"
   ]
  },
  {
   "cell_type": "code",
   "execution_count": 12,
   "metadata": {},
   "outputs": [
    {
     "data": {
      "text/html": [
       "<div>\n",
       "<style scoped>\n",
       "    .dataframe tbody tr th:only-of-type {\n",
       "        vertical-align: middle;\n",
       "    }\n",
       "\n",
       "    .dataframe tbody tr th {\n",
       "        vertical-align: top;\n",
       "    }\n",
       "\n",
       "    .dataframe thead th {\n",
       "        text-align: right;\n",
       "    }\n",
       "</style>\n",
       "<table border=\"1\" class=\"dataframe\">\n",
       "  <thead>\n",
       "    <tr style=\"text-align: right;\">\n",
       "      <th></th>\n",
       "      <th>3</th>\n",
       "      <th>30</th>\n",
       "      <th>45</th>\n",
       "      <th>20</th>\n",
       "      <th>44</th>\n",
       "      <th>12</th>\n",
       "      <th>9</th>\n",
       "      <th>15</th>\n",
       "      <th>21</th>\n",
       "      <th>6</th>\n",
       "      <th>...</th>\n",
       "      <th>35</th>\n",
       "      <th>8</th>\n",
       "      <th>1</th>\n",
       "      <th>40</th>\n",
       "      <th>4</th>\n",
       "      <th>31</th>\n",
       "      <th>11</th>\n",
       "      <th>36</th>\n",
       "      <th>33</th>\n",
       "      <th>41</th>\n",
       "    </tr>\n",
       "  </thead>\n",
       "  <tbody>\n",
       "    <tr>\n",
       "      <th>State</th>\n",
       "      <td>California</td>\n",
       "      <td>New York</td>\n",
       "      <td>Washington</td>\n",
       "      <td>Michigan</td>\n",
       "      <td>Virginia</td>\n",
       "      <td>Indiana</td>\n",
       "      <td>Georgia</td>\n",
       "      <td>Kentucky</td>\n",
       "      <td>Minnesota</td>\n",
       "      <td>Delaware</td>\n",
       "      <td>...</td>\n",
       "      <td>Oregon</td>\n",
       "      <td>Florida</td>\n",
       "      <td>Arizona</td>\n",
       "      <td>Tennessee</td>\n",
       "      <td>Colorado</td>\n",
       "      <td>North Carolina</td>\n",
       "      <td>Illinois</td>\n",
       "      <td>Pennsylvania</td>\n",
       "      <td>Ohio</td>\n",
       "      <td>Texas</td>\n",
       "    </tr>\n",
       "    <tr>\n",
       "      <th>Sales</th>\n",
       "      <td>457688</td>\n",
       "      <td>310876</td>\n",
       "      <td>138641</td>\n",
       "      <td>76269.6</td>\n",
       "      <td>70636.7</td>\n",
       "      <td>53555.4</td>\n",
       "      <td>49095.8</td>\n",
       "      <td>36591.7</td>\n",
       "      <td>29863.1</td>\n",
       "      <td>27451.1</td>\n",
       "      <td>...</td>\n",
       "      <td>17431.1</td>\n",
       "      <td>89473.7</td>\n",
       "      <td>35282</td>\n",
       "      <td>30661.9</td>\n",
       "      <td>32108.1</td>\n",
       "      <td>55603.2</td>\n",
       "      <td>80166.1</td>\n",
       "      <td>116512</td>\n",
       "      <td>78258.1</td>\n",
       "      <td>170188</td>\n",
       "    </tr>\n",
       "    <tr>\n",
       "      <th>Profit</th>\n",
       "      <td>76381.4</td>\n",
       "      <td>74038.5</td>\n",
       "      <td>33402.7</td>\n",
       "      <td>24463.2</td>\n",
       "      <td>18598</td>\n",
       "      <td>18382.9</td>\n",
       "      <td>16250</td>\n",
       "      <td>11199.7</td>\n",
       "      <td>10823.2</td>\n",
       "      <td>9977.37</td>\n",
       "      <td>...</td>\n",
       "      <td>-1190.47</td>\n",
       "      <td>-3399.3</td>\n",
       "      <td>-3427.92</td>\n",
       "      <td>-5341.69</td>\n",
       "      <td>-6527.86</td>\n",
       "      <td>-7490.91</td>\n",
       "      <td>-12607.9</td>\n",
       "      <td>-15560</td>\n",
       "      <td>-16971.4</td>\n",
       "      <td>-25729.4</td>\n",
       "    </tr>\n",
       "  </tbody>\n",
       "</table>\n",
       "<p>3 rows × 49 columns</p>\n",
       "</div>"
      ],
      "text/plain": [
       "                3         30          45        20        44       12  \\\n",
       "State   California  New York  Washington  Michigan  Virginia  Indiana   \n",
       "Sales       457688    310876      138641   76269.6   70636.7  53555.4   \n",
       "Profit     76381.4   74038.5     33402.7   24463.2     18598  18382.9   \n",
       "\n",
       "             9         15         21        6   ...       35       8   \\\n",
       "State   Georgia  Kentucky  Minnesota  Delaware  ...   Oregon  Florida   \n",
       "Sales   49095.8   36591.7    29863.1   27451.1  ...  17431.1  89473.7   \n",
       "Profit    16250   11199.7    10823.2   9977.37  ... -1190.47  -3399.3   \n",
       "\n",
       "             1          40        4               31        11            36  \\\n",
       "State   Arizona  Tennessee  Colorado  North Carolina  Illinois  Pennsylvania   \n",
       "Sales     35282    30661.9   32108.1         55603.2   80166.1        116512   \n",
       "Profit -3427.92   -5341.69  -6527.86        -7490.91  -12607.9        -15560   \n",
       "\n",
       "             33       41  \n",
       "State      Ohio    Texas  \n",
       "Sales   78258.1   170188  \n",
       "Profit -16971.4 -25729.4  \n",
       "\n",
       "[3 rows x 49 columns]"
      ]
     },
     "execution_count": 12,
     "metadata": {},
     "output_type": "execute_result"
    }
   ],
   "source": [
    "state_profit .T"
   ]
  },
  {
   "cell_type": "code",
   "execution_count": 13,
   "metadata": {
    "scrolled": true
   },
   "outputs": [
    {
     "data": {
      "text/html": [
       "<div>\n",
       "<style scoped>\n",
       "    .dataframe tbody tr th:only-of-type {\n",
       "        vertical-align: middle;\n",
       "    }\n",
       "\n",
       "    .dataframe tbody tr th {\n",
       "        vertical-align: top;\n",
       "    }\n",
       "\n",
       "    .dataframe thead th {\n",
       "        text-align: right;\n",
       "    }\n",
       "</style>\n",
       "<table border=\"1\" class=\"dataframe\">\n",
       "  <thead>\n",
       "    <tr style=\"text-align: right;\">\n",
       "      <th></th>\n",
       "      <th>State</th>\n",
       "      <th>Sales</th>\n",
       "      <th>Profit</th>\n",
       "    </tr>\n",
       "  </thead>\n",
       "  <tbody>\n",
       "    <tr>\n",
       "      <th>35</th>\n",
       "      <td>Oregon</td>\n",
       "      <td>17431.1500</td>\n",
       "      <td>-1190.4705</td>\n",
       "    </tr>\n",
       "    <tr>\n",
       "      <th>8</th>\n",
       "      <td>Florida</td>\n",
       "      <td>89473.7080</td>\n",
       "      <td>-3399.3017</td>\n",
       "    </tr>\n",
       "    <tr>\n",
       "      <th>1</th>\n",
       "      <td>Arizona</td>\n",
       "      <td>35282.0010</td>\n",
       "      <td>-3427.9246</td>\n",
       "    </tr>\n",
       "    <tr>\n",
       "      <th>40</th>\n",
       "      <td>Tennessee</td>\n",
       "      <td>30661.8730</td>\n",
       "      <td>-5341.6936</td>\n",
       "    </tr>\n",
       "    <tr>\n",
       "      <th>4</th>\n",
       "      <td>Colorado</td>\n",
       "      <td>32108.1180</td>\n",
       "      <td>-6527.8579</td>\n",
       "    </tr>\n",
       "    <tr>\n",
       "      <th>31</th>\n",
       "      <td>North Carolina</td>\n",
       "      <td>55603.1640</td>\n",
       "      <td>-7490.9122</td>\n",
       "    </tr>\n",
       "    <tr>\n",
       "      <th>11</th>\n",
       "      <td>Illinois</td>\n",
       "      <td>80166.1010</td>\n",
       "      <td>-12607.8870</td>\n",
       "    </tr>\n",
       "    <tr>\n",
       "      <th>36</th>\n",
       "      <td>Pennsylvania</td>\n",
       "      <td>116511.9140</td>\n",
       "      <td>-15559.9603</td>\n",
       "    </tr>\n",
       "    <tr>\n",
       "      <th>33</th>\n",
       "      <td>Ohio</td>\n",
       "      <td>78258.1360</td>\n",
       "      <td>-16971.3766</td>\n",
       "    </tr>\n",
       "    <tr>\n",
       "      <th>41</th>\n",
       "      <td>Texas</td>\n",
       "      <td>170188.0458</td>\n",
       "      <td>-25729.3563</td>\n",
       "    </tr>\n",
       "  </tbody>\n",
       "</table>\n",
       "</div>"
      ],
      "text/plain": [
       "             State        Sales      Profit\n",
       "35          Oregon   17431.1500  -1190.4705\n",
       "8          Florida   89473.7080  -3399.3017\n",
       "1          Arizona   35282.0010  -3427.9246\n",
       "40       Tennessee   30661.8730  -5341.6936\n",
       "4         Colorado   32108.1180  -6527.8579\n",
       "31  North Carolina   55603.1640  -7490.9122\n",
       "11        Illinois   80166.1010 -12607.8870\n",
       "36    Pennsylvania  116511.9140 -15559.9603\n",
       "33            Ohio   78258.1360 -16971.3766\n",
       "41           Texas  170188.0458 -25729.3563"
      ]
     },
     "execution_count": 13,
     "metadata": {},
     "output_type": "execute_result"
    }
   ],
   "source": [
    "#states with  loss\n",
    "loss = state_profit[state_profit['Profit'] < 0]\n",
    "loss"
   ]
  },
  {
   "cell_type": "code",
   "execution_count": 14,
   "metadata": {},
   "outputs": [
    {
     "data": {
      "text/plain": [
       "Text(0.5, 1.0, ' States with total Profit as loss')"
      ]
     },
     "execution_count": 14,
     "metadata": {},
     "output_type": "execute_result"
    },
    {
     "data": {
      "image/png": "[encoded data removed]",
      "text/plain": [
       "<Figure size 864x360 with 1 Axes>"
      ]
     },
     "metadata": {
      "needs_background": "light"
     },
     "output_type": "display_data"
    }
   ],
   "source": [
    "plt.figure(figsize = (12,5))\n",
    "sns.barplot(x='State',y ='Profit', data = loss);\n",
    "plt.title(' States with total Profit as loss')"
   ]
  },
  {
   "cell_type": "markdown",
   "metadata": {},
   "source": [
    "* ##### More loss is made in Texas, Ohio, Pennsylvania, Illinois they have a total loss above 10000"
   ]
  },
  {
   "cell_type": "markdown",
   "metadata": {},
   "source": [
    "### Texas"
   ]
  },
  {
   "cell_type": "code",
   "execution_count": 15,
   "metadata": {},
   "outputs": [
    {
     "data": {
      "text/html": [
       "<div>\n",
       "<style scoped>\n",
       "    .dataframe tbody tr th:only-of-type {\n",
       "        vertical-align: middle;\n",
       "    }\n",
       "\n",
       "    .dataframe tbody tr th {\n",
       "        vertical-align: top;\n",
       "    }\n",
       "\n",
       "    .dataframe thead th {\n",
       "        text-align: right;\n",
       "    }\n",
       "</style>\n",
       "<table border=\"1\" class=\"dataframe\">\n",
       "  <thead>\n",
       "    <tr style=\"text-align: right;\">\n",
       "      <th></th>\n",
       "      <th>20</th>\n",
       "      <th>8</th>\n",
       "      <th>34</th>\n",
       "      <th>44</th>\n",
       "      <th>6</th>\n",
       "      <th>25</th>\n",
       "      <th>11</th>\n",
       "      <th>14</th>\n",
       "      <th>41</th>\n",
       "      <th>51</th>\n",
       "      <th>...</th>\n",
       "      <th>43</th>\n",
       "      <th>2</th>\n",
       "      <th>52</th>\n",
       "      <th>10</th>\n",
       "      <th>53</th>\n",
       "      <th>28</th>\n",
       "      <th>46</th>\n",
       "      <th>16</th>\n",
       "      <th>48</th>\n",
       "      <th>27</th>\n",
       "    </tr>\n",
       "  </thead>\n",
       "  <tbody>\n",
       "    <tr>\n",
       "      <th>City</th>\n",
       "      <td>Fort Worth</td>\n",
       "      <td>Brownsville</td>\n",
       "      <td>Lubbock</td>\n",
       "      <td>Port Arthur</td>\n",
       "      <td>Beaumont</td>\n",
       "      <td>Haltom City</td>\n",
       "      <td>Cedar Hill</td>\n",
       "      <td>Coppell</td>\n",
       "      <td>Pearland</td>\n",
       "      <td>The Colony</td>\n",
       "      <td>...</td>\n",
       "      <td>Plano</td>\n",
       "      <td>Amarillo</td>\n",
       "      <td>Tyler</td>\n",
       "      <td>Carrollton</td>\n",
       "      <td>Waco</td>\n",
       "      <td>Huntsville</td>\n",
       "      <td>Round Rock</td>\n",
       "      <td>Dallas</td>\n",
       "      <td>San Antonio</td>\n",
       "      <td>Houston</td>\n",
       "    </tr>\n",
       "    <tr>\n",
       "      <th>Profit</th>\n",
       "      <td>298.733</td>\n",
       "      <td>202.072</td>\n",
       "      <td>147.139</td>\n",
       "      <td>105.776</td>\n",
       "      <td>59.1164</td>\n",
       "      <td>51.9558</td>\n",
       "      <td>42.8316</td>\n",
       "      <td>41.4892</td>\n",
       "      <td>39.4131</td>\n",
       "      <td>31.6586</td>\n",
       "      <td>...</td>\n",
       "      <td>-383.055</td>\n",
       "      <td>-387.968</td>\n",
       "      <td>-443.709</td>\n",
       "      <td>-470.214</td>\n",
       "      <td>-520.103</td>\n",
       "      <td>-843.426</td>\n",
       "      <td>-1183.43</td>\n",
       "      <td>-2846.53</td>\n",
       "      <td>-7299.05</td>\n",
       "      <td>-10153.5</td>\n",
       "    </tr>\n",
       "    <tr>\n",
       "      <th>Sales</th>\n",
       "      <td>6602.71</td>\n",
       "      <td>1292.23</td>\n",
       "      <td>592.564</td>\n",
       "      <td>737.053</td>\n",
       "      <td>472.116</td>\n",
       "      <td>269.328</td>\n",
       "      <td>122.376</td>\n",
       "      <td>135.936</td>\n",
       "      <td>494.996</td>\n",
       "      <td>142.16</td>\n",
       "      <td>...</td>\n",
       "      <td>3530.37</td>\n",
       "      <td>3773.06</td>\n",
       "      <td>347.206</td>\n",
       "      <td>2200.65</td>\n",
       "      <td>606.107</td>\n",
       "      <td>6710.62</td>\n",
       "      <td>4854.05</td>\n",
       "      <td>20131.9</td>\n",
       "      <td>21843.5</td>\n",
       "      <td>64504.8</td>\n",
       "    </tr>\n",
       "  </tbody>\n",
       "</table>\n",
       "<p>3 rows × 54 columns</p>\n",
       "</div>"
      ],
      "text/plain": [
       "                20           8        34           44        6            25  \\\n",
       "City    Fort Worth  Brownsville  Lubbock  Port Arthur  Beaumont  Haltom City   \n",
       "Profit     298.733      202.072  147.139      105.776   59.1164      51.9558   \n",
       "Sales      6602.71      1292.23  592.564      737.053   472.116      269.328   \n",
       "\n",
       "                11       14        41          51  ...       43        2   \\\n",
       "City    Cedar Hill  Coppell  Pearland  The Colony  ...    Plano  Amarillo   \n",
       "Profit     42.8316  41.4892   39.4131     31.6586  ... -383.055  -387.968   \n",
       "Sales      122.376  135.936   494.996      142.16  ...  3530.37   3773.06   \n",
       "\n",
       "             52          10       53          28          46       16  \\\n",
       "City      Tyler  Carrollton     Waco  Huntsville  Round Rock   Dallas   \n",
       "Profit -443.709    -470.214 -520.103    -843.426    -1183.43 -2846.53   \n",
       "Sales   347.206     2200.65  606.107     6710.62     4854.05  20131.9   \n",
       "\n",
       "                 48       27  \n",
       "City    San Antonio  Houston  \n",
       "Profit     -7299.05 -10153.5  \n",
       "Sales       21843.5  64504.8  \n",
       "\n",
       "[3 rows x 54 columns]"
      ]
     },
     "execution_count": 15,
     "metadata": {},
     "output_type": "execute_result"
    }
   ],
   "source": [
    "Texas = data[data['State'] == 'Texas'][['Ship Mode','City','Profit','Sales','Category','Sub-Category']]\n",
    "Texas_sort = Texas.groupby('City', as_index = False).sum().sort_values('Profit', ascending = False)\n",
    "Texas_sort.T"
   ]
  },
  {
   "cell_type": "code",
   "execution_count": 16,
   "metadata": {},
   "outputs": [
    {
     "data": {
      "text/html": [
       "<div>\n",
       "<style scoped>\n",
       "    .dataframe tbody tr th:only-of-type {\n",
       "        vertical-align: middle;\n",
       "    }\n",
       "\n",
       "    .dataframe tbody tr th {\n",
       "        vertical-align: top;\n",
       "    }\n",
       "\n",
       "    .dataframe thead th {\n",
       "        text-align: right;\n",
       "    }\n",
       "</style>\n",
       "<table border=\"1\" class=\"dataframe\">\n",
       "  <thead>\n",
       "    <tr style=\"text-align: right;\">\n",
       "      <th></th>\n",
       "      <th>City</th>\n",
       "      <th>Profit</th>\n",
       "      <th>Sales</th>\n",
       "    </tr>\n",
       "  </thead>\n",
       "  <tbody>\n",
       "    <tr>\n",
       "      <th>19</th>\n",
       "      <td>El Paso</td>\n",
       "      <td>-179.9007</td>\n",
       "      <td>3546.0640</td>\n",
       "    </tr>\n",
       "    <tr>\n",
       "      <th>9</th>\n",
       "      <td>Bryan</td>\n",
       "      <td>-213.7116</td>\n",
       "      <td>616.6560</td>\n",
       "    </tr>\n",
       "    <tr>\n",
       "      <th>42</th>\n",
       "      <td>Pharr</td>\n",
       "      <td>-237.5528</td>\n",
       "      <td>1540.7080</td>\n",
       "    </tr>\n",
       "    <tr>\n",
       "      <th>3</th>\n",
       "      <td>Arlington</td>\n",
       "      <td>-254.3886</td>\n",
       "      <td>5847.7720</td>\n",
       "    </tr>\n",
       "    <tr>\n",
       "      <th>40</th>\n",
       "      <td>Pasadena</td>\n",
       "      <td>-340.1050</td>\n",
       "      <td>2477.4580</td>\n",
       "    </tr>\n",
       "    <tr>\n",
       "      <th>43</th>\n",
       "      <td>Plano</td>\n",
       "      <td>-383.0554</td>\n",
       "      <td>3530.3746</td>\n",
       "    </tr>\n",
       "    <tr>\n",
       "      <th>2</th>\n",
       "      <td>Amarillo</td>\n",
       "      <td>-387.9683</td>\n",
       "      <td>3773.0628</td>\n",
       "    </tr>\n",
       "    <tr>\n",
       "      <th>52</th>\n",
       "      <td>Tyler</td>\n",
       "      <td>-443.7086</td>\n",
       "      <td>347.2060</td>\n",
       "    </tr>\n",
       "    <tr>\n",
       "      <th>10</th>\n",
       "      <td>Carrollton</td>\n",
       "      <td>-470.2139</td>\n",
       "      <td>2200.6460</td>\n",
       "    </tr>\n",
       "    <tr>\n",
       "      <th>53</th>\n",
       "      <td>Waco</td>\n",
       "      <td>-520.1034</td>\n",
       "      <td>606.1072</td>\n",
       "    </tr>\n",
       "    <tr>\n",
       "      <th>28</th>\n",
       "      <td>Huntsville</td>\n",
       "      <td>-843.4264</td>\n",
       "      <td>6710.6168</td>\n",
       "    </tr>\n",
       "    <tr>\n",
       "      <th>46</th>\n",
       "      <td>Round Rock</td>\n",
       "      <td>-1183.4313</td>\n",
       "      <td>4854.0528</td>\n",
       "    </tr>\n",
       "    <tr>\n",
       "      <th>16</th>\n",
       "      <td>Dallas</td>\n",
       "      <td>-2846.5257</td>\n",
       "      <td>20131.9322</td>\n",
       "    </tr>\n",
       "    <tr>\n",
       "      <th>48</th>\n",
       "      <td>San Antonio</td>\n",
       "      <td>-7299.0502</td>\n",
       "      <td>21843.5280</td>\n",
       "    </tr>\n",
       "    <tr>\n",
       "      <th>27</th>\n",
       "      <td>Houston</td>\n",
       "      <td>-10153.5485</td>\n",
       "      <td>64504.7604</td>\n",
       "    </tr>\n",
       "  </tbody>\n",
       "</table>\n",
       "</div>"
      ],
      "text/plain": [
       "           City      Profit       Sales\n",
       "19      El Paso   -179.9007   3546.0640\n",
       "9         Bryan   -213.7116    616.6560\n",
       "42        Pharr   -237.5528   1540.7080\n",
       "3     Arlington   -254.3886   5847.7720\n",
       "40     Pasadena   -340.1050   2477.4580\n",
       "43        Plano   -383.0554   3530.3746\n",
       "2      Amarillo   -387.9683   3773.0628\n",
       "52        Tyler   -443.7086    347.2060\n",
       "10   Carrollton   -470.2139   2200.6460\n",
       "53         Waco   -520.1034    606.1072\n",
       "28   Huntsville   -843.4264   6710.6168\n",
       "46   Round Rock  -1183.4313   4854.0528\n",
       "16       Dallas  -2846.5257  20131.9322\n",
       "48  San Antonio  -7299.0502  21843.5280\n",
       "27      Houston -10153.5485  64504.7604"
      ]
     },
     "execution_count": 16,
     "metadata": {},
     "output_type": "execute_result"
    }
   ],
   "source": [
    "# Top 15 cities in Texas with higest total of loss\n",
    "Texas_loss = Texas_sort.tail(15)\n",
    "Texas_loss"
   ]
  },
  {
   "cell_type": "code",
   "execution_count": 17,
   "metadata": {
    "scrolled": false
   },
   "outputs": [
    {
     "data": {
      "text/plain": [
       "Text(0.5, 1.0, ' Cities in Texas with total Profit as loss')"
      ]
     },
     "execution_count": 17,
     "metadata": {},
     "output_type": "execute_result"
    },
    {
     "data": {
      "image/png": "[encoded data removed]",
      "text/plain": [
       "<Figure size 1368x360 with 1 Axes>"
      ]
     },
     "metadata": {
      "needs_background": "light"
     },
     "output_type": "display_data"
    }
   ],
   "source": [
    "plt.figure(figsize = (19,5))\n",
    "sns.barplot(x='City',y ='Profit', data = Texas_loss);\n",
    "plt.title(' Cities in Texas with total Profit as loss')"
   ]
  },
  {
   "cell_type": "markdown",
   "metadata": {},
   "source": [
    "* ###### In Texas, Houston, San-Antonio and Dallas have greater loss compared to other cities"
   ]
  },
  {
   "cell_type": "markdown",
   "metadata": {},
   "source": [
    "### Houston"
   ]
  },
  {
   "cell_type": "code",
   "execution_count": 18,
   "metadata": {},
   "outputs": [
    {
     "data": {
      "text/html": [
       "<div>\n",
       "<style scoped>\n",
       "    .dataframe tbody tr th:only-of-type {\n",
       "        vertical-align: middle;\n",
       "    }\n",
       "\n",
       "    .dataframe tbody tr th {\n",
       "        vertical-align: top;\n",
       "    }\n",
       "\n",
       "    .dataframe thead th {\n",
       "        text-align: right;\n",
       "    }\n",
       "</style>\n",
       "<table border=\"1\" class=\"dataframe\">\n",
       "  <thead>\n",
       "    <tr style=\"text-align: right;\">\n",
       "      <th></th>\n",
       "      <th>Sub-Category</th>\n",
       "      <th>Profit</th>\n",
       "      <th>Sales</th>\n",
       "    </tr>\n",
       "  </thead>\n",
       "  <tbody>\n",
       "    <tr>\n",
       "      <th>15</th>\n",
       "      <td>Supplies</td>\n",
       "      <td>-14.9247</td>\n",
       "      <td>134.9600</td>\n",
       "    </tr>\n",
       "    <tr>\n",
       "      <th>14</th>\n",
       "      <td>Storage</td>\n",
       "      <td>-218.8031</td>\n",
       "      <td>4830.2640</td>\n",
       "    </tr>\n",
       "    <tr>\n",
       "      <th>16</th>\n",
       "      <td>Tables</td>\n",
       "      <td>-625.0306</td>\n",
       "      <td>3845.9750</td>\n",
       "    </tr>\n",
       "    <tr>\n",
       "      <th>9</th>\n",
       "      <td>Furnishings</td>\n",
       "      <td>-704.8210</td>\n",
       "      <td>960.6880</td>\n",
       "    </tr>\n",
       "    <tr>\n",
       "      <th>5</th>\n",
       "      <td>Chairs</td>\n",
       "      <td>-954.5291</td>\n",
       "      <td>9633.7710</td>\n",
       "    </tr>\n",
       "    <tr>\n",
       "      <th>11</th>\n",
       "      <td>Machines</td>\n",
       "      <td>-999.6828</td>\n",
       "      <td>8023.5420</td>\n",
       "    </tr>\n",
       "    <tr>\n",
       "      <th>4</th>\n",
       "      <td>Bookcases</td>\n",
       "      <td>-1120.4223</td>\n",
       "      <td>8742.7804</td>\n",
       "    </tr>\n",
       "    <tr>\n",
       "      <th>1</th>\n",
       "      <td>Appliances</td>\n",
       "      <td>-2887.3111</td>\n",
       "      <td>1114.9900</td>\n",
       "    </tr>\n",
       "    <tr>\n",
       "      <th>3</th>\n",
       "      <td>Binders</td>\n",
       "      <td>-6894.6390</td>\n",
       "      <td>4301.9420</td>\n",
       "    </tr>\n",
       "  </tbody>\n",
       "</table>\n",
       "</div>"
      ],
      "text/plain": [
       "   Sub-Category     Profit      Sales\n",
       "15     Supplies   -14.9247   134.9600\n",
       "14      Storage  -218.8031  4830.2640\n",
       "16       Tables  -625.0306  3845.9750\n",
       "9   Furnishings  -704.8210   960.6880\n",
       "5        Chairs  -954.5291  9633.7710\n",
       "11     Machines  -999.6828  8023.5420\n",
       "4     Bookcases -1120.4223  8742.7804\n",
       "1    Appliances -2887.3111  1114.9900\n",
       "3       Binders -6894.6390  4301.9420"
      ]
     },
     "execution_count": 18,
     "metadata": {},
     "output_type": "execute_result"
    }
   ],
   "source": [
    "Houston_sort = Texas[Texas['City'] == 'Houston'].groupby('Sub-Category', as_index = False).sum().sort_values('Profit', ascending = False)\n",
    "Houston_loss = Houston_sort[Houston_sort['Profit'] < 0]\n",
    "Houston_loss"
   ]
  },
  {
   "cell_type": "code",
   "execution_count": 19,
   "metadata": {
    "scrolled": false
   },
   "outputs": [
    {
     "data": {
      "text/plain": [
       "Text(0.5, 1.0, 'Sales of Sub-Categories with loss in Houston')"
      ]
     },
     "execution_count": 19,
     "metadata": {},
     "output_type": "execute_result"
    },
    {
     "data": {
      "image/png": "[encoded data removed]",
      "text/plain": [
       "<Figure size 648x360 with 1 Axes>"
      ]
     },
     "metadata": {
      "needs_background": "light"
     },
     "output_type": "display_data"
    }
   ],
   "source": [
    "plt.figure(figsize = (9,5))\n",
    "sns.barplot(x='Sub-Category',y ='Profit', data = Houston_loss);\n",
    "plt.title('Sales of Sub-Categories with loss in Houston')"
   ]
  },
  {
   "cell_type": "markdown",
   "metadata": {},
   "source": [
    "* ##### In Houston, more loss is made in the sales of Binders and Appliances  "
   ]
  },
  {
   "cell_type": "markdown",
   "metadata": {},
   "source": [
    "### San-Antonio"
   ]
  },
  {
   "cell_type": "code",
   "execution_count": 20,
   "metadata": {
    "scrolled": true
   },
   "outputs": [
    {
     "data": {
      "text/html": [
       "<div>\n",
       "<style scoped>\n",
       "    .dataframe tbody tr th:only-of-type {\n",
       "        vertical-align: middle;\n",
       "    }\n",
       "\n",
       "    .dataframe tbody tr th {\n",
       "        vertical-align: top;\n",
       "    }\n",
       "\n",
       "    .dataframe thead th {\n",
       "        text-align: right;\n",
       "    }\n",
       "</style>\n",
       "<table border=\"1\" class=\"dataframe\">\n",
       "  <thead>\n",
       "    <tr style=\"text-align: right;\">\n",
       "      <th></th>\n",
       "      <th>Sub-Category</th>\n",
       "      <th>Profit</th>\n",
       "      <th>Sales</th>\n",
       "    </tr>\n",
       "  </thead>\n",
       "  <tbody>\n",
       "    <tr>\n",
       "      <th>7</th>\n",
       "      <td>Furnishings</td>\n",
       "      <td>-40.6482</td>\n",
       "      <td>58.280</td>\n",
       "    </tr>\n",
       "    <tr>\n",
       "      <th>12</th>\n",
       "      <td>Storage</td>\n",
       "      <td>-68.8271</td>\n",
       "      <td>446.072</td>\n",
       "    </tr>\n",
       "    <tr>\n",
       "      <th>4</th>\n",
       "      <td>Chairs</td>\n",
       "      <td>-124.1707</td>\n",
       "      <td>2876.489</td>\n",
       "    </tr>\n",
       "    <tr>\n",
       "      <th>13</th>\n",
       "      <td>Tables</td>\n",
       "      <td>-250.4696</td>\n",
       "      <td>2220.477</td>\n",
       "    </tr>\n",
       "    <tr>\n",
       "      <th>9</th>\n",
       "      <td>Machines</td>\n",
       "      <td>-1406.3105</td>\n",
       "      <td>8847.402</td>\n",
       "    </tr>\n",
       "    <tr>\n",
       "      <th>1</th>\n",
       "      <td>Appliances</td>\n",
       "      <td>-1647.2214</td>\n",
       "      <td>646.064</td>\n",
       "    </tr>\n",
       "    <tr>\n",
       "      <th>3</th>\n",
       "      <td>Binders</td>\n",
       "      <td>-4204.7558</td>\n",
       "      <td>2489.648</td>\n",
       "    </tr>\n",
       "  </tbody>\n",
       "</table>\n",
       "</div>"
      ],
      "text/plain": [
       "   Sub-Category     Profit     Sales\n",
       "7   Furnishings   -40.6482    58.280\n",
       "12      Storage   -68.8271   446.072\n",
       "4        Chairs  -124.1707  2876.489\n",
       "13       Tables  -250.4696  2220.477\n",
       "9      Machines -1406.3105  8847.402\n",
       "1    Appliances -1647.2214   646.064\n",
       "3       Binders -4204.7558  2489.648"
      ]
     },
     "execution_count": 20,
     "metadata": {},
     "output_type": "execute_result"
    }
   ],
   "source": [
    "San_Antonio_sort = Texas[Texas['City'] == 'San Antonio'].groupby('Sub-Category', as_index = False).sum().sort_values('Profit', ascending = False)\n",
    "San_Antonio_loss = San_Antonio_sort[San_Antonio_sort['Profit'] < 0]\n",
    "San_Antonio_loss"
   ]
  },
  {
   "cell_type": "code",
   "execution_count": 21,
   "metadata": {
    "scrolled": false,
    "slideshow": {
     "slide_type": "slide"
    }
   },
   "outputs": [
    {
     "data": {
      "text/plain": [
       "Text(0.5, 1.0, 'Sales of Sub-Categories with loss in San-Antonio')"
      ]
     },
     "execution_count": 21,
     "metadata": {},
     "output_type": "execute_result"
    },
    {
     "data": {
      "image/png": "[encoded data removed]",
      "text/plain": [
       "<Figure size 648x360 with 1 Axes>"
      ]
     },
     "metadata": {
      "needs_background": "light"
     },
     "output_type": "display_data"
    }
   ],
   "source": [
    "plt.figure(figsize = (9,5))\n",
    "sns.barplot(x='Sub-Category',y ='Profit', data = San_Antonio_loss);\n",
    "plt.title('Sales of Sub-Categories with loss in San-Antonio')"
   ]
  },
  {
   "cell_type": "markdown",
   "metadata": {},
   "source": [
    "* ###### In San-Antonio, more loss is made in the sales of Binders, Appliances and Machines\n"
   ]
  },
  {
   "cell_type": "code",
   "execution_count": 22,
   "metadata": {},
   "outputs": [
    {
     "data": {
      "text/html": [
       "<div>\n",
       "<style scoped>\n",
       "    .dataframe tbody tr th:only-of-type {\n",
       "        vertical-align: middle;\n",
       "    }\n",
       "\n",
       "    .dataframe tbody tr th {\n",
       "        vertical-align: top;\n",
       "    }\n",
       "\n",
       "    .dataframe thead th {\n",
       "        text-align: right;\n",
       "    }\n",
       "</style>\n",
       "<table border=\"1\" class=\"dataframe\">\n",
       "  <thead>\n",
       "    <tr style=\"text-align: right;\">\n",
       "      <th></th>\n",
       "      <th>Sub-Category</th>\n",
       "      <th>Profit</th>\n",
       "      <th>Sales</th>\n",
       "    </tr>\n",
       "  </thead>\n",
       "  <tbody>\n",
       "    <tr>\n",
       "      <th>14</th>\n",
       "      <td>Supplies</td>\n",
       "      <td>-3.0876</td>\n",
       "      <td>216.3360</td>\n",
       "    </tr>\n",
       "    <tr>\n",
       "      <th>5</th>\n",
       "      <td>Chairs</td>\n",
       "      <td>-234.1860</td>\n",
       "      <td>1639.3020</td>\n",
       "    </tr>\n",
       "    <tr>\n",
       "      <th>15</th>\n",
       "      <td>Tables</td>\n",
       "      <td>-417.5043</td>\n",
       "      <td>2478.5950</td>\n",
       "    </tr>\n",
       "    <tr>\n",
       "      <th>1</th>\n",
       "      <td>Appliances</td>\n",
       "      <td>-462.4856</td>\n",
       "      <td>181.4520</td>\n",
       "    </tr>\n",
       "    <tr>\n",
       "      <th>4</th>\n",
       "      <td>Bookcases</td>\n",
       "      <td>-620.1858</td>\n",
       "      <td>2329.4352</td>\n",
       "    </tr>\n",
       "    <tr>\n",
       "      <th>8</th>\n",
       "      <td>Furnishings</td>\n",
       "      <td>-751.2971</td>\n",
       "      <td>859.5360</td>\n",
       "    </tr>\n",
       "    <tr>\n",
       "      <th>3</th>\n",
       "      <td>Binders</td>\n",
       "      <td>-1566.7102</td>\n",
       "      <td>1028.0080</td>\n",
       "    </tr>\n",
       "  </tbody>\n",
       "</table>\n",
       "</div>"
      ],
      "text/plain": [
       "   Sub-Category     Profit      Sales\n",
       "14     Supplies    -3.0876   216.3360\n",
       "5        Chairs  -234.1860  1639.3020\n",
       "15       Tables  -417.5043  2478.5950\n",
       "1    Appliances  -462.4856   181.4520\n",
       "4     Bookcases  -620.1858  2329.4352\n",
       "8   Furnishings  -751.2971   859.5360\n",
       "3       Binders -1566.7102  1028.0080"
      ]
     },
     "execution_count": 22,
     "metadata": {},
     "output_type": "execute_result"
    }
   ],
   "source": [
    "Dallas_sort = Texas[Texas['City'] == 'Dallas'].groupby('Sub-Category', as_index = False).sum().sort_values('Profit', ascending = False)\n",
    "Dallas_loss = Dallas_sort[Dallas_sort['Profit'] < 0]\n",
    "Dallas_loss"
   ]
  },
  {
   "cell_type": "code",
   "execution_count": 23,
   "metadata": {
    "scrolled": true
   },
   "outputs": [
    {
     "data": {
      "text/plain": [
       "Text(0.5, 1.0, 'Sales of Sub-Categories with loss in Dallas')"
      ]
     },
     "execution_count": 23,
     "metadata": {},
     "output_type": "execute_result"
    },
    {
     "data": {
      "image/png": "[encoded data removed]",
      "text/plain": [
       "<Figure size 648x360 with 1 Axes>"
      ]
     },
     "metadata": {
      "needs_background": "light"
     },
     "output_type": "display_data"
    }
   ],
   "source": [
    "plt.figure(figsize = (9,5))\n",
    "sns.barplot(x='Sub-Category',y ='Profit', data = Dallas_loss);\n",
    "plt.title('Sales of Sub-Categories with loss in Dallas')"
   ]
  },
  {
   "cell_type": "markdown",
   "metadata": {},
   "source": [
    "* ###### In Dallas, more loss is made in the sales of Binders"
   ]
  },
  {
   "cell_type": "code",
   "execution_count": 24,
   "metadata": {},
   "outputs": [
    {
     "data": {
      "text/html": [
       "<div>\n",
       "<style scoped>\n",
       "    .dataframe tbody tr th:only-of-type {\n",
       "        vertical-align: middle;\n",
       "    }\n",
       "\n",
       "    .dataframe tbody tr th {\n",
       "        vertical-align: top;\n",
       "    }\n",
       "\n",
       "    .dataframe thead th {\n",
       "        text-align: right;\n",
       "    }\n",
       "</style>\n",
       "<table border=\"1\" class=\"dataframe\">\n",
       "  <thead>\n",
       "    <tr style=\"text-align: right;\">\n",
       "      <th></th>\n",
       "      <th>13</th>\n",
       "      <th>12</th>\n",
       "      <th>6</th>\n",
       "      <th>0</th>\n",
       "      <th>7</th>\n",
       "      <th>2</th>\n",
       "      <th>10</th>\n",
       "      <th>8</th>\n",
       "      <th>14</th>\n",
       "      <th>15</th>\n",
       "      <th>16</th>\n",
       "      <th>4</th>\n",
       "      <th>5</th>\n",
       "      <th>11</th>\n",
       "      <th>9</th>\n",
       "      <th>1</th>\n",
       "      <th>3</th>\n",
       "    </tr>\n",
       "  </thead>\n",
       "  <tbody>\n",
       "    <tr>\n",
       "      <th>Sub-Category</th>\n",
       "      <td>Phones</td>\n",
       "      <td>Paper</td>\n",
       "      <td>Copiers</td>\n",
       "      <td>Accessories</td>\n",
       "      <td>Envelopes</td>\n",
       "      <td>Art</td>\n",
       "      <td>Labels</td>\n",
       "      <td>Fasteners</td>\n",
       "      <td>Storage</td>\n",
       "      <td>Supplies</td>\n",
       "      <td>Tables</td>\n",
       "      <td>Bookcases</td>\n",
       "      <td>Chairs</td>\n",
       "      <td>Machines</td>\n",
       "      <td>Furnishings</td>\n",
       "      <td>Appliances</td>\n",
       "      <td>Binders</td>\n",
       "    </tr>\n",
       "    <tr>\n",
       "      <th>Profit</th>\n",
       "      <td>3222.46</td>\n",
       "      <td>2422.97</td>\n",
       "      <td>1629.96</td>\n",
       "      <td>1105.85</td>\n",
       "      <td>848.176</td>\n",
       "      <td>316.354</td>\n",
       "      <td>200.402</td>\n",
       "      <td>80.7357</td>\n",
       "      <td>-763.705</td>\n",
       "      <td>-837.28</td>\n",
       "      <td>-2216.68</td>\n",
       "      <td>-2391.14</td>\n",
       "      <td>-2515.65</td>\n",
       "      <td>-2666.84</td>\n",
       "      <td>-3312.68</td>\n",
       "      <td>-6147.22</td>\n",
       "      <td>-14705.1</td>\n",
       "    </tr>\n",
       "    <tr>\n",
       "      <th>Sales</th>\n",
       "      <td>28589.6</td>\n",
       "      <td>6983.46</td>\n",
       "      <td>5639.87</td>\n",
       "      <td>11328.6</td>\n",
       "      <td>2530.65</td>\n",
       "      <td>2369.53</td>\n",
       "      <td>583.6</td>\n",
       "      <td>332.464</td>\n",
       "      <td>15723.6</td>\n",
       "      <td>4516.76</td>\n",
       "      <td>15760.7</td>\n",
       "      <td>14493.5</td>\n",
       "      <td>26572.4</td>\n",
       "      <td>19546.2</td>\n",
       "      <td>3766.72</td>\n",
       "      <td>2407.81</td>\n",
       "      <td>9042.68</td>\n",
       "    </tr>\n",
       "  </tbody>\n",
       "</table>\n",
       "</div>"
      ],
      "text/plain": [
       "                   13       12       6            0          7        2   \\\n",
       "Sub-Category   Phones    Paper  Copiers  Accessories  Envelopes      Art   \n",
       "Profit        3222.46  2422.97  1629.96      1105.85    848.176  316.354   \n",
       "Sales         28589.6  6983.46  5639.87      11328.6    2530.65  2369.53   \n",
       "\n",
       "                   10         8        14        15       16         4   \\\n",
       "Sub-Category   Labels  Fasteners  Storage  Supplies   Tables  Bookcases   \n",
       "Profit        200.402    80.7357 -763.705   -837.28 -2216.68   -2391.14   \n",
       "Sales           583.6    332.464  15723.6   4516.76  15760.7    14493.5   \n",
       "\n",
       "                   5         11           9           1        3   \n",
       "Sub-Category   Chairs  Machines  Furnishings  Appliances  Binders  \n",
       "Profit       -2515.65  -2666.84     -3312.68    -6147.22 -14705.1  \n",
       "Sales         26572.4   19546.2      3766.72     2407.81  9042.68  "
      ]
     },
     "execution_count": 24,
     "metadata": {},
     "output_type": "execute_result"
    }
   ],
   "source": [
    "Texas_sort = Texas.groupby('Sub-Category', as_index = False).sum().sort_values('Profit', ascending = False)\n",
    "Texas_sort.T"
   ]
  },
  {
   "cell_type": "code",
   "execution_count": 25,
   "metadata": {
    "scrolled": false
   },
   "outputs": [
    {
     "data": {
      "text/plain": [
       "Text(0.5, 1.0, 'Total Profit made in sales of Sub-Categories in Texas')"
      ]
     },
     "execution_count": 25,
     "metadata": {},
     "output_type": "execute_result"
    },
    {
     "data": {
      "image/png": "[encoded data removed]",
      "text/plain": [
       "<Figure size 1368x360 with 1 Axes>"
      ]
     },
     "metadata": {
      "needs_background": "light"
     },
     "output_type": "display_data"
    }
   ],
   "source": [
    "plt.figure(figsize = (19,5))\n",
    "sns.barplot(x='Sub-Category',y ='Profit', data = Texas_sort);\n",
    "plt.title('Total Profit made in sales of Sub-Categories in Texas')"
   ]
  },
  {
   "cell_type": "code",
   "execution_count": 26,
   "metadata": {
    "scrolled": true
   },
   "outputs": [
    {
     "data": {
      "text/plain": [
       "Text(0.5, 1.0, 'Total Profit made in each Segment with respect to shipmode in Texas')"
      ]
     },
     "execution_count": 26,
     "metadata": {},
     "output_type": "execute_result"
    },
    {
     "data": {
      "image/png": "[encoded data removed]",
      "text/plain": [
       "<Figure size 471.125x360 with 1 Axes>"
      ]
     },
     "metadata": {
      "needs_background": "light"
     },
     "output_type": "display_data"
    }
   ],
   "source": [
    "Texas = data[data['State'] == 'Texas']\n",
    "sns.catplot(x ='Segment', y= 'Profit', hue = 'Ship Mode', data = Texas[['Ship Mode','Profit','Segment']][Texas['Profit'] < 0], kind ='bar', ci =None, estimator = sum)\n",
    "plt.title('Total Profit made in each Segment with respect to shipmode in Texas')"
   ]
  },
  {
   "cell_type": "markdown",
   "metadata": {},
   "source": [
    "## Ohio"
   ]
  },
  {
   "cell_type": "code",
   "execution_count": 27,
   "metadata": {},
   "outputs": [
    {
     "data": {
      "text/html": [
       "<div>\n",
       "<style scoped>\n",
       "    .dataframe tbody tr th:only-of-type {\n",
       "        vertical-align: middle;\n",
       "    }\n",
       "\n",
       "    .dataframe tbody tr th {\n",
       "        vertical-align: top;\n",
       "    }\n",
       "\n",
       "    .dataframe thead th {\n",
       "        text-align: right;\n",
       "    }\n",
       "</style>\n",
       "<table border=\"1\" class=\"dataframe\">\n",
       "  <thead>\n",
       "    <tr style=\"text-align: right;\">\n",
       "      <th></th>\n",
       "      <th>2</th>\n",
       "      <th>1</th>\n",
       "      <th>20</th>\n",
       "      <th>9</th>\n",
       "      <th>7</th>\n",
       "      <th>16</th>\n",
       "      <th>10</th>\n",
       "      <th>11</th>\n",
       "      <th>5</th>\n",
       "      <th>18</th>\n",
       "      <th>...</th>\n",
       "      <th>6</th>\n",
       "      <th>15</th>\n",
       "      <th>14</th>\n",
       "      <th>4</th>\n",
       "      <th>3</th>\n",
       "      <th>23</th>\n",
       "      <th>17</th>\n",
       "      <th>21</th>\n",
       "      <th>19</th>\n",
       "      <th>13</th>\n",
       "    </tr>\n",
       "  </thead>\n",
       "  <tbody>\n",
       "    <tr>\n",
       "      <th>City</th>\n",
       "      <td>Cincinnati</td>\n",
       "      <td>Bowling Green</td>\n",
       "      <td>Parma</td>\n",
       "      <td>Grove City</td>\n",
       "      <td>Elyria</td>\n",
       "      <td>Mason</td>\n",
       "      <td>Hamilton</td>\n",
       "      <td>Kent</td>\n",
       "      <td>Cuyahoga Falls</td>\n",
       "      <td>Mentor</td>\n",
       "      <td>...</td>\n",
       "      <td>Dublin</td>\n",
       "      <td>Marion</td>\n",
       "      <td>Lorain</td>\n",
       "      <td>Columbus</td>\n",
       "      <td>Cleveland</td>\n",
       "      <td>Troy</td>\n",
       "      <td>Medina</td>\n",
       "      <td>Springfield</td>\n",
       "      <td>Newark</td>\n",
       "      <td>Lancaster</td>\n",
       "    </tr>\n",
       "    <tr>\n",
       "      <th>Profit</th>\n",
       "      <td>175.337</td>\n",
       "      <td>149.945</td>\n",
       "      <td>31.0618</td>\n",
       "      <td>13.1952</td>\n",
       "      <td>-1.3984</td>\n",
       "      <td>-4.2352</td>\n",
       "      <td>-9.385</td>\n",
       "      <td>-11.3007</td>\n",
       "      <td>-12.5752</td>\n",
       "      <td>-123.274</td>\n",
       "      <td>...</td>\n",
       "      <td>-351.305</td>\n",
       "      <td>-544.653</td>\n",
       "      <td>-632.923</td>\n",
       "      <td>-729.505</td>\n",
       "      <td>-848.008</td>\n",
       "      <td>-874.587</td>\n",
       "      <td>-1343.04</td>\n",
       "      <td>-1420.16</td>\n",
       "      <td>-2292.41</td>\n",
       "      <td>-7149.62</td>\n",
       "    </tr>\n",
       "    <tr>\n",
       "      <th>Sales</th>\n",
       "      <td>1611.98</td>\n",
       "      <td>1865.57</td>\n",
       "      <td>3879.76</td>\n",
       "      <td>123.588</td>\n",
       "      <td>1.824</td>\n",
       "      <td>94.264</td>\n",
       "      <td>328.224</td>\n",
       "      <td>346.302</td>\n",
       "      <td>29.094</td>\n",
       "      <td>693.13</td>\n",
       "      <td>...</td>\n",
       "      <td>2379.16</td>\n",
       "      <td>3010.99</td>\n",
       "      <td>2015.11</td>\n",
       "      <td>15900.8</td>\n",
       "      <td>6346.18</td>\n",
       "      <td>3180.53</td>\n",
       "      <td>2477.72</td>\n",
       "      <td>5613.17</td>\n",
       "      <td>8128.07</td>\n",
       "      <td>8202.62</td>\n",
       "    </tr>\n",
       "  </tbody>\n",
       "</table>\n",
       "<p>3 rows × 24 columns</p>\n",
       "</div>"
      ],
      "text/plain": [
       "                2              1        20          9       7       16  \\\n",
       "City    Cincinnati  Bowling Green    Parma  Grove City  Elyria   Mason   \n",
       "Profit     175.337        149.945  31.0618     13.1952 -1.3984 -4.2352   \n",
       "Sales      1611.98        1865.57  3879.76     123.588   1.824  94.264   \n",
       "\n",
       "              10       11              5        18  ...       6        15  \\\n",
       "City    Hamilton     Kent  Cuyahoga Falls   Mentor  ...   Dublin   Marion   \n",
       "Profit    -9.385 -11.3007        -12.5752 -123.274  ... -351.305 -544.653   \n",
       "Sales    328.224  346.302          29.094   693.13  ...  2379.16  3010.99   \n",
       "\n",
       "             14        4          3        23       17           21       19  \\\n",
       "City     Lorain  Columbus  Cleveland     Troy   Medina  Springfield   Newark   \n",
       "Profit -632.923  -729.505   -848.008 -874.587 -1343.04     -1420.16 -2292.41   \n",
       "Sales   2015.11   15900.8    6346.18  3180.53  2477.72      5613.17  8128.07   \n",
       "\n",
       "               13  \n",
       "City    Lancaster  \n",
       "Profit   -7149.62  \n",
       "Sales     8202.62  \n",
       "\n",
       "[3 rows x 24 columns]"
      ]
     },
     "execution_count": 27,
     "metadata": {},
     "output_type": "execute_result"
    }
   ],
   "source": [
    "Ohio = data[data['State'] == 'Ohio'][['Ship Mode','City','Profit','Sales','Category','Sub-Category']]\n",
    "Ohio_sort = Ohio.groupby('City', as_index = False).sum().sort_values('Profit', ascending = False)\n",
    "Ohio_sort.T"
   ]
  },
  {
   "cell_type": "code",
   "execution_count": 28,
   "metadata": {},
   "outputs": [
    {
     "data": {
      "text/html": [
       "<div>\n",
       "<style scoped>\n",
       "    .dataframe tbody tr th:only-of-type {\n",
       "        vertical-align: middle;\n",
       "    }\n",
       "\n",
       "    .dataframe tbody tr th {\n",
       "        vertical-align: top;\n",
       "    }\n",
       "\n",
       "    .dataframe thead th {\n",
       "        text-align: right;\n",
       "    }\n",
       "</style>\n",
       "<table border=\"1\" class=\"dataframe\">\n",
       "  <thead>\n",
       "    <tr style=\"text-align: right;\">\n",
       "      <th></th>\n",
       "      <th>7</th>\n",
       "      <th>16</th>\n",
       "      <th>10</th>\n",
       "      <th>11</th>\n",
       "      <th>5</th>\n",
       "      <th>18</th>\n",
       "      <th>8</th>\n",
       "      <th>0</th>\n",
       "      <th>12</th>\n",
       "      <th>22</th>\n",
       "      <th>6</th>\n",
       "      <th>15</th>\n",
       "      <th>14</th>\n",
       "      <th>4</th>\n",
       "      <th>3</th>\n",
       "      <th>23</th>\n",
       "      <th>17</th>\n",
       "      <th>21</th>\n",
       "      <th>19</th>\n",
       "      <th>13</th>\n",
       "    </tr>\n",
       "  </thead>\n",
       "  <tbody>\n",
       "    <tr>\n",
       "      <th>City</th>\n",
       "      <td>Elyria</td>\n",
       "      <td>Mason</td>\n",
       "      <td>Hamilton</td>\n",
       "      <td>Kent</td>\n",
       "      <td>Cuyahoga Falls</td>\n",
       "      <td>Mentor</td>\n",
       "      <td>Fairfield</td>\n",
       "      <td>Akron</td>\n",
       "      <td>Lakewood</td>\n",
       "      <td>Toledo</td>\n",
       "      <td>Dublin</td>\n",
       "      <td>Marion</td>\n",
       "      <td>Lorain</td>\n",
       "      <td>Columbus</td>\n",
       "      <td>Cleveland</td>\n",
       "      <td>Troy</td>\n",
       "      <td>Medina</td>\n",
       "      <td>Springfield</td>\n",
       "      <td>Newark</td>\n",
       "      <td>Lancaster</td>\n",
       "    </tr>\n",
       "    <tr>\n",
       "      <th>Profit</th>\n",
       "      <td>-1.3984</td>\n",
       "      <td>-4.2352</td>\n",
       "      <td>-9.385</td>\n",
       "      <td>-11.3007</td>\n",
       "      <td>-12.5752</td>\n",
       "      <td>-123.274</td>\n",
       "      <td>-129.288</td>\n",
       "      <td>-186.636</td>\n",
       "      <td>-336.608</td>\n",
       "      <td>-339.997</td>\n",
       "      <td>-351.305</td>\n",
       "      <td>-544.653</td>\n",
       "      <td>-632.923</td>\n",
       "      <td>-729.505</td>\n",
       "      <td>-848.008</td>\n",
       "      <td>-874.587</td>\n",
       "      <td>-1343.04</td>\n",
       "      <td>-1420.16</td>\n",
       "      <td>-2292.41</td>\n",
       "      <td>-7149.62</td>\n",
       "    </tr>\n",
       "    <tr>\n",
       "      <th>Sales</th>\n",
       "      <td>1.824</td>\n",
       "      <td>94.264</td>\n",
       "      <td>328.224</td>\n",
       "      <td>346.302</td>\n",
       "      <td>29.094</td>\n",
       "      <td>693.13</td>\n",
       "      <td>3077.7</td>\n",
       "      <td>2729.99</td>\n",
       "      <td>1756.32</td>\n",
       "      <td>4466.05</td>\n",
       "      <td>2379.16</td>\n",
       "      <td>3010.99</td>\n",
       "      <td>2015.11</td>\n",
       "      <td>15900.8</td>\n",
       "      <td>6346.18</td>\n",
       "      <td>3180.53</td>\n",
       "      <td>2477.72</td>\n",
       "      <td>5613.17</td>\n",
       "      <td>8128.07</td>\n",
       "      <td>8202.62</td>\n",
       "    </tr>\n",
       "  </tbody>\n",
       "</table>\n",
       "</div>"
      ],
      "text/plain": [
       "            7       16        10       11              5        18         8   \\\n",
       "City    Elyria   Mason  Hamilton     Kent  Cuyahoga Falls   Mentor  Fairfield   \n",
       "Profit -1.3984 -4.2352    -9.385 -11.3007        -12.5752 -123.274   -129.288   \n",
       "Sales    1.824  94.264   328.224  346.302          29.094   693.13     3077.7   \n",
       "\n",
       "             0         12       22       6        15       14        4   \\\n",
       "City      Akron  Lakewood   Toledo   Dublin   Marion   Lorain  Columbus   \n",
       "Profit -186.636  -336.608 -339.997 -351.305 -544.653 -632.923  -729.505   \n",
       "Sales   2729.99   1756.32  4466.05  2379.16  3010.99  2015.11   15900.8   \n",
       "\n",
       "               3        23       17           21       19         13  \n",
       "City    Cleveland     Troy   Medina  Springfield   Newark  Lancaster  \n",
       "Profit   -848.008 -874.587 -1343.04     -1420.16 -2292.41   -7149.62  \n",
       "Sales     6346.18  3180.53  2477.72      5613.17  8128.07    8202.62  "
      ]
     },
     "execution_count": 28,
     "metadata": {},
     "output_type": "execute_result"
    }
   ],
   "source": [
    "# Top 15 cities in Texas with higest total of loss\n",
    "Ohio_loss = Ohio_sort.tail(20)\n",
    "Ohio_loss.T"
   ]
  },
  {
   "cell_type": "code",
   "execution_count": 29,
   "metadata": {
    "scrolled": true
   },
   "outputs": [
    {
     "data": {
      "text/plain": [
       "Text(0.5, 1.0, ' Cities in ohio with total Profit as loss')"
      ]
     },
     "execution_count": 29,
     "metadata": {},
     "output_type": "execute_result"
    },
    {
     "data": {
      "image/png": "[encoded data removed]",
      "text/plain": [
       "<Figure size 1368x360 with 1 Axes>"
      ]
     },
     "metadata": {
      "needs_background": "light"
     },
     "output_type": "display_data"
    }
   ],
   "source": [
    "plt.figure(figsize = (19,5))\n",
    "sns.barplot(x='City',y ='Profit', data = Ohio_loss);\n",
    "plt.title(' Cities in ohio with total Profit as loss')"
   ]
  },
  {
   "cell_type": "markdown",
   "metadata": {},
   "source": [
    "* ##### In Ohio, More loss is made in Lancaster"
   ]
  },
  {
   "cell_type": "markdown",
   "metadata": {},
   "source": [
    "#### Lancaster"
   ]
  },
  {
   "cell_type": "code",
   "execution_count": 30,
   "metadata": {},
   "outputs": [
    {
     "data": {
      "text/html": [
       "<div>\n",
       "<style scoped>\n",
       "    .dataframe tbody tr th:only-of-type {\n",
       "        vertical-align: middle;\n",
       "    }\n",
       "\n",
       "    .dataframe tbody tr th {\n",
       "        vertical-align: top;\n",
       "    }\n",
       "\n",
       "    .dataframe thead th {\n",
       "        text-align: right;\n",
       "    }\n",
       "</style>\n",
       "<table border=\"1\" class=\"dataframe\">\n",
       "  <thead>\n",
       "    <tr style=\"text-align: right;\">\n",
       "      <th></th>\n",
       "      <th>Sub-Category</th>\n",
       "      <th>Profit</th>\n",
       "      <th>Sales</th>\n",
       "    </tr>\n",
       "  </thead>\n",
       "  <tbody>\n",
       "    <tr>\n",
       "      <th>4</th>\n",
       "      <td>Chairs</td>\n",
       "      <td>-1.2178</td>\n",
       "      <td>85.246</td>\n",
       "    </tr>\n",
       "    <tr>\n",
       "      <th>9</th>\n",
       "      <td>Storage</td>\n",
       "      <td>-71.1862</td>\n",
       "      <td>423.552</td>\n",
       "    </tr>\n",
       "    <tr>\n",
       "      <th>10</th>\n",
       "      <td>Tables</td>\n",
       "      <td>-103.9882</td>\n",
       "      <td>215.148</td>\n",
       "    </tr>\n",
       "    <tr>\n",
       "      <th>8</th>\n",
       "      <td>Phones</td>\n",
       "      <td>-253.4337</td>\n",
       "      <td>1169.694</td>\n",
       "    </tr>\n",
       "    <tr>\n",
       "      <th>3</th>\n",
       "      <td>Binders</td>\n",
       "      <td>-330.1421</td>\n",
       "      <td>489.504</td>\n",
       "    </tr>\n",
       "    <tr>\n",
       "      <th>6</th>\n",
       "      <td>Machines</td>\n",
       "      <td>-6599.9780</td>\n",
       "      <td>4499.985</td>\n",
       "    </tr>\n",
       "  </tbody>\n",
       "</table>\n",
       "</div>"
      ],
      "text/plain": [
       "   Sub-Category     Profit     Sales\n",
       "4        Chairs    -1.2178    85.246\n",
       "9       Storage   -71.1862   423.552\n",
       "10       Tables  -103.9882   215.148\n",
       "8        Phones  -253.4337  1169.694\n",
       "3       Binders  -330.1421   489.504\n",
       "6      Machines -6599.9780  4499.985"
      ]
     },
     "execution_count": 30,
     "metadata": {},
     "output_type": "execute_result"
    }
   ],
   "source": [
    "Lancaster_sort = Ohio[Ohio['City'] == 'Lancaster'].groupby('Sub-Category', as_index = False).sum().sort_values('Profit', ascending = False)\n",
    "Lancaster_loss = Lancaster_sort[Lancaster_sort['Profit'] < 0]\n",
    "Lancaster_loss"
   ]
  },
  {
   "cell_type": "code",
   "execution_count": 31,
   "metadata": {
    "scrolled": false
   },
   "outputs": [
    {
     "data": {
      "text/plain": [
       "Text(0.5, 1.0, 'Sales of Sub-Categories with loss in Lancaster')"
      ]
     },
     "execution_count": 31,
     "metadata": {},
     "output_type": "execute_result"
    },
    {
     "data": {
      "image/png": "[encoded data removed]",
      "text/plain": [
       "<Figure size 432x288 with 1 Axes>"
      ]
     },
     "metadata": {
      "needs_background": "light"
     },
     "output_type": "display_data"
    }
   ],
   "source": [
    "sns.barplot(x='Sub-Category',y ='Profit', data = Lancaster_loss);\n",
    "plt.title('Sales of Sub-Categories with loss in Lancaster')"
   ]
  },
  {
   "cell_type": "markdown",
   "metadata": {},
   "source": [
    "* ###### In Lancaster, more loss is made in the sales of Machines"
   ]
  },
  {
   "cell_type": "code",
   "execution_count": 32,
   "metadata": {},
   "outputs": [
    {
     "data": {
      "text/plain": [
       "Text(0.5, 1.0, 'Total Profit made in sales of Sub-Categories in Ohio')"
      ]
     },
     "execution_count": 32,
     "metadata": {},
     "output_type": "execute_result"
    },
    {
     "data": {
      "image/png": "[encoded data removed]",
      "text/plain": [
       "<Figure size 1368x360 with 1 Axes>"
      ]
     },
     "metadata": {
      "needs_background": "light"
     },
     "output_type": "display_data"
    }
   ],
   "source": [
    "Ohio_sort = Ohio.groupby('Sub-Category', as_index = False).sum().sort_values('Profit', ascending = False)\n",
    "plt.figure(figsize = (19,5))\n",
    "sns.barplot(x='Sub-Category',y ='Profit', data = Ohio_sort);\n",
    "plt.title('Total Profit made in sales of Sub-Categories in Ohio')"
   ]
  },
  {
   "cell_type": "code",
   "execution_count": 33,
   "metadata": {
    "scrolled": true
   },
   "outputs": [
    {
     "data": {
      "text/plain": [
       "Text(0.5, 1.0, 'Total Profit made in each Segment with respect to shipmode in Ohio')"
      ]
     },
     "execution_count": 33,
     "metadata": {},
     "output_type": "execute_result"
    },
    {
     "data": {
      "image/png": "[encoded data removed]",
      "text/plain": [
       "<Figure size 471.125x360 with 1 Axes>"
      ]
     },
     "metadata": {
      "needs_background": "light"
     },
     "output_type": "display_data"
    }
   ],
   "source": [
    "Ohio = data[data['State'] == 'Ohio']\n",
    "sns.catplot(x ='Segment', y= 'Profit', hue = 'Ship Mode', data = Ohio[['Ship Mode','Profit','Segment']][Ohio['Profit'] < 0], kind ='bar', ci =None, estimator = sum)\n",
    "plt.title('Total Profit made in each Segment with respect to shipmode in Ohio')"
   ]
  },
  {
   "cell_type": "markdown",
   "metadata": {},
   "source": [
    "### Pennsylvania"
   ]
  },
  {
   "cell_type": "code",
   "execution_count": 34,
   "metadata": {},
   "outputs": [
    {
     "data": {
      "text/html": [
       "<div>\n",
       "<style scoped>\n",
       "    .dataframe tbody tr th:only-of-type {\n",
       "        vertical-align: middle;\n",
       "    }\n",
       "\n",
       "    .dataframe tbody tr th {\n",
       "        vertical-align: top;\n",
       "    }\n",
       "\n",
       "    .dataframe thead th {\n",
       "        text-align: right;\n",
       "    }\n",
       "</style>\n",
       "<table border=\"1\" class=\"dataframe\">\n",
       "  <thead>\n",
       "    <tr style=\"text-align: right;\">\n",
       "      <th></th>\n",
       "      <th>0</th>\n",
       "      <th>1</th>\n",
       "      <th>2</th>\n",
       "      <th>3</th>\n",
       "      <th>4</th>\n",
       "      <th>5</th>\n",
       "      <th>6</th>\n",
       "      <th>7</th>\n",
       "    </tr>\n",
       "  </thead>\n",
       "  <tbody>\n",
       "    <tr>\n",
       "      <th>City</th>\n",
       "      <td>Allentown</td>\n",
       "      <td>Altoona</td>\n",
       "      <td>Bethlehem</td>\n",
       "      <td>Chester</td>\n",
       "      <td>Lancaster</td>\n",
       "      <td>Philadelphia</td>\n",
       "      <td>Reading</td>\n",
       "      <td>York</td>\n",
       "    </tr>\n",
       "    <tr>\n",
       "      <th>Profit</th>\n",
       "      <td>-226.45</td>\n",
       "      <td>-1.1835</td>\n",
       "      <td>-1003.1</td>\n",
       "      <td>48.3578</td>\n",
       "      <td>-168.888</td>\n",
       "      <td>-13837.8</td>\n",
       "      <td>-268.764</td>\n",
       "      <td>-102.169</td>\n",
       "    </tr>\n",
       "    <tr>\n",
       "      <th>Sales</th>\n",
       "      <td>853.252</td>\n",
       "      <td>20.451</td>\n",
       "      <td>1689.63</td>\n",
       "      <td>1968.48</td>\n",
       "      <td>1211.39</td>\n",
       "      <td>109077</td>\n",
       "      <td>873.712</td>\n",
       "      <td>817.978</td>\n",
       "    </tr>\n",
       "  </tbody>\n",
       "</table>\n",
       "</div>"
      ],
      "text/plain": [
       "                0        1          2        3          4             5  \\\n",
       "City    Allentown  Altoona  Bethlehem  Chester  Lancaster  Philadelphia   \n",
       "Profit    -226.45  -1.1835    -1003.1  48.3578   -168.888      -13837.8   \n",
       "Sales     853.252   20.451    1689.63  1968.48    1211.39        109077   \n",
       "\n",
       "              6        7  \n",
       "City    Reading     York  \n",
       "Profit -268.764 -102.169  \n",
       "Sales   873.712  817.978  "
      ]
     },
     "execution_count": 34,
     "metadata": {},
     "output_type": "execute_result"
    }
   ],
   "source": [
    "Pennsylvania = data[data['State'] == 'Pennsylvania'][['Ship Mode','City','Profit','Sales','Category','Sub-Category']]\n",
    "Pennsylvania_sort = Pennsylvania.groupby('City', as_index = False).sum()\n",
    "Pennsylvania_sort.T"
   ]
  },
  {
   "cell_type": "code",
   "execution_count": 35,
   "metadata": {},
   "outputs": [
    {
     "data": {
      "text/html": [
       "<div>\n",
       "<style scoped>\n",
       "    .dataframe tbody tr th:only-of-type {\n",
       "        vertical-align: middle;\n",
       "    }\n",
       "\n",
       "    .dataframe tbody tr th {\n",
       "        vertical-align: top;\n",
       "    }\n",
       "\n",
       "    .dataframe thead th {\n",
       "        text-align: right;\n",
       "    }\n",
       "</style>\n",
       "<table border=\"1\" class=\"dataframe\">\n",
       "  <thead>\n",
       "    <tr style=\"text-align: right;\">\n",
       "      <th></th>\n",
       "      <th>City</th>\n",
       "      <th>Profit</th>\n",
       "      <th>Sales</th>\n",
       "    </tr>\n",
       "  </thead>\n",
       "  <tbody>\n",
       "    <tr>\n",
       "      <th>5</th>\n",
       "      <td>Philadelphia</td>\n",
       "      <td>-13837.7674</td>\n",
       "      <td>109077.013</td>\n",
       "    </tr>\n",
       "    <tr>\n",
       "      <th>2</th>\n",
       "      <td>Bethlehem</td>\n",
       "      <td>-1003.0958</td>\n",
       "      <td>1689.634</td>\n",
       "    </tr>\n",
       "    <tr>\n",
       "      <th>6</th>\n",
       "      <td>Reading</td>\n",
       "      <td>-268.7642</td>\n",
       "      <td>873.712</td>\n",
       "    </tr>\n",
       "    <tr>\n",
       "      <th>0</th>\n",
       "      <td>Allentown</td>\n",
       "      <td>-226.4504</td>\n",
       "      <td>853.252</td>\n",
       "    </tr>\n",
       "    <tr>\n",
       "      <th>4</th>\n",
       "      <td>Lancaster</td>\n",
       "      <td>-168.8876</td>\n",
       "      <td>1211.395</td>\n",
       "    </tr>\n",
       "    <tr>\n",
       "      <th>7</th>\n",
       "      <td>York</td>\n",
       "      <td>-102.1692</td>\n",
       "      <td>817.978</td>\n",
       "    </tr>\n",
       "  </tbody>\n",
       "</table>\n",
       "</div>"
      ],
      "text/plain": [
       "           City      Profit       Sales\n",
       "5  Philadelphia -13837.7674  109077.013\n",
       "2     Bethlehem  -1003.0958    1689.634\n",
       "6       Reading   -268.7642     873.712\n",
       "0     Allentown   -226.4504     853.252\n",
       "4     Lancaster   -168.8876    1211.395\n",
       "7          York   -102.1692     817.978"
      ]
     },
     "execution_count": 35,
     "metadata": {},
     "output_type": "execute_result"
    }
   ],
   "source": [
    "# for cities with losses higher than 100\n",
    "Loss = Pennsylvania_sort[Pennsylvania_sort['Profit'] < 0].sort_values('Profit')\n",
    "Loss = Loss[Loss['Profit'] < -100]\n",
    "Loss"
   ]
  },
  {
   "cell_type": "code",
   "execution_count": 36,
   "metadata": {
    "scrolled": true
   },
   "outputs": [
    {
     "data": {
      "text/plain": [
       "Text(0.5, 1.0, ' Cities in Pennsylvania with total Profit as loss')"
      ]
     },
     "execution_count": 36,
     "metadata": {},
     "output_type": "execute_result"
    },
    {
     "data": {
      "image/png": "[encoded data removed]",
      "text/plain": [
       "<Figure size 504x360 with 1 Axes>"
      ]
     },
     "metadata": {
      "needs_background": "light"
     },
     "output_type": "display_data"
    }
   ],
   "source": [
    "plt.figure(figsize = (7,5))\n",
    "sns.barplot(x='City',y ='Profit', data = Loss );\n",
    "plt.title(' Cities in Pennsylvania with total Profit as loss')"
   ]
  },
  {
   "cell_type": "markdown",
   "metadata": {},
   "source": [
    "* ##### In Pennsylvania, more loss is made in Philadelphia"
   ]
  },
  {
   "cell_type": "code",
   "execution_count": 37,
   "metadata": {
    "scrolled": true
   },
   "outputs": [
    {
     "data": {
      "text/html": [
       "<div>\n",
       "<style scoped>\n",
       "    .dataframe tbody tr th:only-of-type {\n",
       "        vertical-align: middle;\n",
       "    }\n",
       "\n",
       "    .dataframe tbody tr th {\n",
       "        vertical-align: top;\n",
       "    }\n",
       "\n",
       "    .dataframe thead th {\n",
       "        text-align: right;\n",
       "    }\n",
       "</style>\n",
       "<table border=\"1\" class=\"dataframe\">\n",
       "  <thead>\n",
       "    <tr style=\"text-align: right;\">\n",
       "      <th></th>\n",
       "      <th>Sub-Category</th>\n",
       "      <th>Profit</th>\n",
       "      <th>Sales</th>\n",
       "    </tr>\n",
       "  </thead>\n",
       "  <tbody>\n",
       "    <tr>\n",
       "      <th>14</th>\n",
       "      <td>Storage</td>\n",
       "      <td>-1163.9182</td>\n",
       "      <td>10631.168</td>\n",
       "    </tr>\n",
       "    <tr>\n",
       "      <th>15</th>\n",
       "      <td>Supplies</td>\n",
       "      <td>-1351.4897</td>\n",
       "      <td>6229.480</td>\n",
       "    </tr>\n",
       "    <tr>\n",
       "      <th>5</th>\n",
       "      <td>Chairs</td>\n",
       "      <td>-1963.3730</td>\n",
       "      <td>17007.970</td>\n",
       "    </tr>\n",
       "    <tr>\n",
       "      <th>11</th>\n",
       "      <td>Machines</td>\n",
       "      <td>-2219.2456</td>\n",
       "      <td>2133.717</td>\n",
       "    </tr>\n",
       "    <tr>\n",
       "      <th>4</th>\n",
       "      <td>Bookcases</td>\n",
       "      <td>-2568.1413</td>\n",
       "      <td>4531.345</td>\n",
       "    </tr>\n",
       "    <tr>\n",
       "      <th>16</th>\n",
       "      <td>Tables</td>\n",
       "      <td>-2588.7538</td>\n",
       "      <td>8052.186</td>\n",
       "    </tr>\n",
       "    <tr>\n",
       "      <th>3</th>\n",
       "      <td>Binders</td>\n",
       "      <td>-3385.2340</td>\n",
       "      <td>4552.161</td>\n",
       "    </tr>\n",
       "    <tr>\n",
       "      <th>13</th>\n",
       "      <td>Phones</td>\n",
       "      <td>-3555.0398</td>\n",
       "      <td>19432.182</td>\n",
       "    </tr>\n",
       "  </tbody>\n",
       "</table>\n",
       "</div>"
      ],
      "text/plain": [
       "   Sub-Category     Profit      Sales\n",
       "14      Storage -1163.9182  10631.168\n",
       "15     Supplies -1351.4897   6229.480\n",
       "5        Chairs -1963.3730  17007.970\n",
       "11     Machines -2219.2456   2133.717\n",
       "4     Bookcases -2568.1413   4531.345\n",
       "16       Tables -2588.7538   8052.186\n",
       "3       Binders -3385.2340   4552.161\n",
       "13       Phones -3555.0398  19432.182"
      ]
     },
     "execution_count": 37,
     "metadata": {},
     "output_type": "execute_result"
    }
   ],
   "source": [
    "Philadelphia = Pennsylvania[Pennsylvania['City'] == 'Philadelphia']\n",
    "Philadelphia_Loss = Philadelphia.groupby('Sub-Category', as_index = False).sum().sort_values('Profit', ascending = False)\n",
    "Philadelphia_Loss = Philadelphia_Loss[Philadelphia_Loss['Profit'] < 0]\n",
    "Philadelphia_Loss"
   ]
  },
  {
   "cell_type": "code",
   "execution_count": 38,
   "metadata": {
    "scrolled": false
   },
   "outputs": [
    {
     "data": {
      "text/plain": [
       "Text(0.5, 1.0, 'Sales of Sub-Categories with loss in Philadelphia')"
      ]
     },
     "execution_count": 38,
     "metadata": {},
     "output_type": "execute_result"
    },
    {
     "data": {
      "image/png": "[encoded data removed]",
      "text/plain": [
       "<Figure size 576x360 with 1 Axes>"
      ]
     },
     "metadata": {
      "needs_background": "light"
     },
     "output_type": "display_data"
    }
   ],
   "source": [
    "plt.figure(figsize = (8,5))\n",
    "sns.barplot(x ='Sub-Category', y ='Profit', data = Philadelphia_Loss, ci = None)\n",
    "plt.title('Sales of Sub-Categories with loss in Philadelphia')"
   ]
  },
  {
   "cell_type": "markdown",
   "metadata": {},
   "source": [
    "### In Philadelphia, more loss is made on phones and binders"
   ]
  },
  {
   "cell_type": "code",
   "execution_count": 39,
   "metadata": {},
   "outputs": [
    {
     "data": {
      "text/plain": [
       "Text(0.5, 1.0, 'Total Profit made in sales of Sub-Categories in Pennsylvania')"
      ]
     },
     "execution_count": 39,
     "metadata": {},
     "output_type": "execute_result"
    },
    {
     "data": {
      "image/png": "[encoded data removed]",
      "text/plain": [
       "<Figure size 1368x360 with 1 Axes>"
      ]
     },
     "metadata": {
      "needs_background": "light"
     },
     "output_type": "display_data"
    }
   ],
   "source": [
    "Pennsylvania_sort = Pennsylvania.groupby('Sub-Category', as_index = False).sum().sort_values('Profit', ascending = False)\n",
    "plt.figure(figsize = (19,5))\n",
    "sns.barplot(x='Sub-Category',y ='Profit', data = Pennsylvania_sort);\n",
    "plt.title('Total Profit made in sales of Sub-Categories in Pennsylvania')"
   ]
  },
  {
   "cell_type": "code",
   "execution_count": 40,
   "metadata": {},
   "outputs": [
    {
     "data": {
      "text/plain": [
       "Text(0.5, 1.0, 'Total Profit made in each Segment with respect to shipmode in Pennsylvania')"
      ]
     },
     "execution_count": 40,
     "metadata": {},
     "output_type": "execute_result"
    },
    {
     "data": {
      "image/png": "[encoded data removed]",
      "text/plain": [
       "<Figure size 471.125x360 with 1 Axes>"
      ]
     },
     "metadata": {
      "needs_background": "light"
     },
     "output_type": "display_data"
    }
   ],
   "source": [
    "Pennsylvania = data[data['State'] == 'Pennsylvania']\n",
    "sns.catplot(x ='Segment', y= 'Profit', hue = 'Ship Mode', data = Pennsylvania[['Ship Mode','Profit','Segment']][Pennsylvania['Profit'] < 0], kind ='bar', ci =None, estimator = sum)\n",
    "plt.title('Total Profit made in each Segment with respect to shipmode in Pennsylvania')"
   ]
  },
  {
   "cell_type": "markdown",
   "metadata": {},
   "source": [
    "### Illinois"
   ]
  },
  {
   "cell_type": "code",
   "execution_count": 41,
   "metadata": {},
   "outputs": [
    {
     "data": {
      "text/html": [
       "<div>\n",
       "<style scoped>\n",
       "    .dataframe tbody tr th:only-of-type {\n",
       "        vertical-align: middle;\n",
       "    }\n",
       "\n",
       "    .dataframe tbody tr th {\n",
       "        vertical-align: top;\n",
       "    }\n",
       "\n",
       "    .dataframe thead th {\n",
       "        text-align: right;\n",
       "    }\n",
       "</style>\n",
       "<table border=\"1\" class=\"dataframe\">\n",
       "  <thead>\n",
       "    <tr style=\"text-align: right;\">\n",
       "      <th></th>\n",
       "      <th>12</th>\n",
       "      <th>28</th>\n",
       "      <th>20</th>\n",
       "      <th>25</th>\n",
       "      <th>22</th>\n",
       "      <th>15</th>\n",
       "      <th>0</th>\n",
       "      <th>19</th>\n",
       "      <th>3</th>\n",
       "      <th>30</th>\n",
       "      <th>...</th>\n",
       "      <th>10</th>\n",
       "      <th>23</th>\n",
       "      <th>31</th>\n",
       "      <th>9</th>\n",
       "      <th>29</th>\n",
       "      <th>2</th>\n",
       "      <th>21</th>\n",
       "      <th>26</th>\n",
       "      <th>1</th>\n",
       "      <th>7</th>\n",
       "    </tr>\n",
       "  </thead>\n",
       "  <tbody>\n",
       "    <tr>\n",
       "      <th>City</th>\n",
       "      <td>Evanston</td>\n",
       "      <td>Saint Charles</td>\n",
       "      <td>Orland Park</td>\n",
       "      <td>Quincy</td>\n",
       "      <td>Palatine</td>\n",
       "      <td>Glenview</td>\n",
       "      <td>Arlington Heights</td>\n",
       "      <td>Oak Park</td>\n",
       "      <td>Bolingbrook</td>\n",
       "      <td>Tinley Park</td>\n",
       "      <td>...</td>\n",
       "      <td>Des Plaines</td>\n",
       "      <td>Park Ridge</td>\n",
       "      <td>Wheeling</td>\n",
       "      <td>Decatur</td>\n",
       "      <td>Skokie</td>\n",
       "      <td>Bloomington</td>\n",
       "      <td>Oswego</td>\n",
       "      <td>Rockford</td>\n",
       "      <td>Aurora</td>\n",
       "      <td>Chicago</td>\n",
       "    </tr>\n",
       "    <tr>\n",
       "      <th>Profit</th>\n",
       "      <td>411.884</td>\n",
       "      <td>216.64</td>\n",
       "      <td>67.992</td>\n",
       "      <td>49.1019</td>\n",
       "      <td>23.2624</td>\n",
       "      <td>13.8579</td>\n",
       "      <td>1.2348</td>\n",
       "      <td>1.0192</td>\n",
       "      <td>-4.661</td>\n",
       "      <td>-8.9152</td>\n",
       "      <td>...</td>\n",
       "      <td>-236.767</td>\n",
       "      <td>-238.45</td>\n",
       "      <td>-293.318</td>\n",
       "      <td>-311.033</td>\n",
       "      <td>-346.87</td>\n",
       "      <td>-432.128</td>\n",
       "      <td>-536.128</td>\n",
       "      <td>-1149.51</td>\n",
       "      <td>-1894.72</td>\n",
       "      <td>-6654.57</td>\n",
       "    </tr>\n",
       "    <tr>\n",
       "      <th>Sales</th>\n",
       "      <td>1753.8</td>\n",
       "      <td>1388.71</td>\n",
       "      <td>339.96</td>\n",
       "      <td>330.284</td>\n",
       "      <td>116.312</td>\n",
       "      <td>158.376</td>\n",
       "      <td>14.112</td>\n",
       "      <td>10.192</td>\n",
       "      <td>218.308</td>\n",
       "      <td>22.288</td>\n",
       "      <td>...</td>\n",
       "      <td>1493.21</td>\n",
       "      <td>685</td>\n",
       "      <td>737.142</td>\n",
       "      <td>3169.47</td>\n",
       "      <td>568.832</td>\n",
       "      <td>963.94</td>\n",
       "      <td>321.978</td>\n",
       "      <td>3166.23</td>\n",
       "      <td>7572.97</td>\n",
       "      <td>48539.5</td>\n",
       "    </tr>\n",
       "  </tbody>\n",
       "</table>\n",
       "<p>3 rows × 33 columns</p>\n",
       "</div>"
      ],
      "text/plain": [
       "              12             28           20       25        22        15  \\\n",
       "City    Evanston  Saint Charles  Orland Park   Quincy  Palatine  Glenview   \n",
       "Profit   411.884         216.64       67.992  49.1019   23.2624   13.8579   \n",
       "Sales     1753.8        1388.71       339.96  330.284   116.312   158.376   \n",
       "\n",
       "                       0         19           3            30  ...  \\\n",
       "City    Arlington Heights  Oak Park  Bolingbrook  Tinley Park  ...   \n",
       "Profit             1.2348    1.0192       -4.661      -8.9152  ...   \n",
       "Sales              14.112    10.192      218.308       22.288  ...   \n",
       "\n",
       "                 10          23        31       9        29           2   \\\n",
       "City    Des Plaines  Park Ridge  Wheeling  Decatur   Skokie  Bloomington   \n",
       "Profit     -236.767     -238.45  -293.318 -311.033  -346.87     -432.128   \n",
       "Sales       1493.21         685   737.142  3169.47  568.832       963.94   \n",
       "\n",
       "             21        26       1        7   \n",
       "City     Oswego  Rockford   Aurora  Chicago  \n",
       "Profit -536.128  -1149.51 -1894.72 -6654.57  \n",
       "Sales   321.978   3166.23  7572.97  48539.5  \n",
       "\n",
       "[3 rows x 33 columns]"
      ]
     },
     "execution_count": 41,
     "metadata": {},
     "output_type": "execute_result"
    }
   ],
   "source": [
    "Illinois = data[data['State'] == 'Illinois'][['Ship Mode','City','Profit','Sales','Category','Sub-Category']]\n",
    "Illinois_sort = Illinois.groupby('City', as_index = False).sum().sort_values('Profit', ascending = False)\n",
    "Illinois_sort.T"
   ]
  },
  {
   "cell_type": "code",
   "execution_count": 42,
   "metadata": {},
   "outputs": [
    {
     "data": {
      "text/html": [
       "<div>\n",
       "<style scoped>\n",
       "    .dataframe tbody tr th:only-of-type {\n",
       "        vertical-align: middle;\n",
       "    }\n",
       "\n",
       "    .dataframe tbody tr th {\n",
       "        vertical-align: top;\n",
       "    }\n",
       "\n",
       "    .dataframe thead th {\n",
       "        text-align: right;\n",
       "    }\n",
       "</style>\n",
       "<table border=\"1\" class=\"dataframe\">\n",
       "  <thead>\n",
       "    <tr style=\"text-align: right;\">\n",
       "      <th></th>\n",
       "      <th>5</th>\n",
       "      <th>8</th>\n",
       "      <th>24</th>\n",
       "      <th>4</th>\n",
       "      <th>18</th>\n",
       "      <th>14</th>\n",
       "      <th>17</th>\n",
       "      <th>16</th>\n",
       "      <th>6</th>\n",
       "      <th>11</th>\n",
       "      <th>10</th>\n",
       "      <th>23</th>\n",
       "      <th>31</th>\n",
       "      <th>9</th>\n",
       "      <th>29</th>\n",
       "      <th>2</th>\n",
       "      <th>21</th>\n",
       "      <th>26</th>\n",
       "      <th>1</th>\n",
       "      <th>7</th>\n",
       "    </tr>\n",
       "  </thead>\n",
       "  <tbody>\n",
       "    <tr>\n",
       "      <th>City</th>\n",
       "      <td>Carol Stream</td>\n",
       "      <td>Danville</td>\n",
       "      <td>Peoria</td>\n",
       "      <td>Buffalo Grove</td>\n",
       "      <td>Normal</td>\n",
       "      <td>Freeport</td>\n",
       "      <td>Naperville</td>\n",
       "      <td>Highland Park</td>\n",
       "      <td>Champaign</td>\n",
       "      <td>Elmhurst</td>\n",
       "      <td>Des Plaines</td>\n",
       "      <td>Park Ridge</td>\n",
       "      <td>Wheeling</td>\n",
       "      <td>Decatur</td>\n",
       "      <td>Skokie</td>\n",
       "      <td>Bloomington</td>\n",
       "      <td>Oswego</td>\n",
       "      <td>Rockford</td>\n",
       "      <td>Aurora</td>\n",
       "      <td>Chicago</td>\n",
       "    </tr>\n",
       "    <tr>\n",
       "      <th>Profit</th>\n",
       "      <td>-39.8683</td>\n",
       "      <td>-69.3952</td>\n",
       "      <td>-72.7587</td>\n",
       "      <td>-89.6478</td>\n",
       "      <td>-110.023</td>\n",
       "      <td>-127.45</td>\n",
       "      <td>-146.532</td>\n",
       "      <td>-169.941</td>\n",
       "      <td>-182.352</td>\n",
       "      <td>-212.132</td>\n",
       "      <td>-236.767</td>\n",
       "      <td>-238.45</td>\n",
       "      <td>-293.318</td>\n",
       "      <td>-311.033</td>\n",
       "      <td>-346.87</td>\n",
       "      <td>-432.128</td>\n",
       "      <td>-536.128</td>\n",
       "      <td>-1149.51</td>\n",
       "      <td>-1894.72</td>\n",
       "      <td>-6654.57</td>\n",
       "    </tr>\n",
       "    <tr>\n",
       "      <th>Sales</th>\n",
       "      <td>1305.81</td>\n",
       "      <td>43.372</td>\n",
       "      <td>501.48</td>\n",
       "      <td>831.399</td>\n",
       "      <td>366.744</td>\n",
       "      <td>215.82</td>\n",
       "      <td>1288.3</td>\n",
       "      <td>2035.1</td>\n",
       "      <td>151.96</td>\n",
       "      <td>891.628</td>\n",
       "      <td>1493.21</td>\n",
       "      <td>685</td>\n",
       "      <td>737.142</td>\n",
       "      <td>3169.47</td>\n",
       "      <td>568.832</td>\n",
       "      <td>963.94</td>\n",
       "      <td>321.978</td>\n",
       "      <td>3166.23</td>\n",
       "      <td>7572.97</td>\n",
       "      <td>48539.5</td>\n",
       "    </tr>\n",
       "  </tbody>\n",
       "</table>\n",
       "</div>"
      ],
      "text/plain": [
       "                  5         8        24             4        18        14  \\\n",
       "City    Carol Stream  Danville   Peoria  Buffalo Grove   Normal  Freeport   \n",
       "Profit      -39.8683  -69.3952 -72.7587       -89.6478 -110.023   -127.45   \n",
       "Sales        1305.81    43.372   501.48        831.399  366.744    215.82   \n",
       "\n",
       "                17             16         6         11           10  \\\n",
       "City    Naperville  Highland Park  Champaign  Elmhurst  Des Plaines   \n",
       "Profit    -146.532       -169.941   -182.352  -212.132     -236.767   \n",
       "Sales       1288.3         2035.1     151.96   891.628      1493.21   \n",
       "\n",
       "                23        31       9        29           2        21  \\\n",
       "City    Park Ridge  Wheeling  Decatur   Skokie  Bloomington   Oswego   \n",
       "Profit     -238.45  -293.318 -311.033  -346.87     -432.128 -536.128   \n",
       "Sales          685   737.142  3169.47  568.832       963.94  321.978   \n",
       "\n",
       "              26       1        7   \n",
       "City    Rockford   Aurora  Chicago  \n",
       "Profit  -1149.51 -1894.72 -6654.57  \n",
       "Sales    3166.23  7572.97  48539.5  "
      ]
     },
     "execution_count": 42,
     "metadata": {},
     "output_type": "execute_result"
    }
   ],
   "source": [
    "# Top 15 cities in Texas with higest total of loss\n",
    "Illinois_loss = Illinois_sort.tail(20)\n",
    "Illinois_loss.T"
   ]
  },
  {
   "cell_type": "code",
   "execution_count": 43,
   "metadata": {},
   "outputs": [
    {
     "data": {
      "text/plain": [
       "Text(0.5, 1.0, ' Cities in Illinois with total Profit as loss')"
      ]
     },
     "execution_count": 43,
     "metadata": {},
     "output_type": "execute_result"
    },
    {
     "data": {
      "image/png": "[encoded data removed]",
      "text/plain": [
       "<Figure size 1800x360 with 1 Axes>"
      ]
     },
     "metadata": {
      "needs_background": "light"
     },
     "output_type": "display_data"
    }
   ],
   "source": [
    "plt.figure(figsize = (25,5))\n",
    "sns.barplot(x='City',y ='Profit', data = Illinois_loss);\n",
    "plt.title(' Cities in Illinois with total Profit as loss')"
   ]
  },
  {
   "cell_type": "markdown",
   "metadata": {},
   "source": [
    "* ##### In Illinois, More loss is made in Chicago"
   ]
  },
  {
   "cell_type": "code",
   "execution_count": 44,
   "metadata": {},
   "outputs": [
    {
     "data": {
      "text/html": [
       "<div>\n",
       "<style scoped>\n",
       "    .dataframe tbody tr th:only-of-type {\n",
       "        vertical-align: middle;\n",
       "    }\n",
       "\n",
       "    .dataframe tbody tr th {\n",
       "        vertical-align: top;\n",
       "    }\n",
       "\n",
       "    .dataframe thead th {\n",
       "        text-align: right;\n",
       "    }\n",
       "</style>\n",
       "<table border=\"1\" class=\"dataframe\">\n",
       "  <thead>\n",
       "    <tr style=\"text-align: right;\">\n",
       "      <th></th>\n",
       "      <th>Sub-Category</th>\n",
       "      <th>Profit</th>\n",
       "      <th>Sales</th>\n",
       "    </tr>\n",
       "  </thead>\n",
       "  <tbody>\n",
       "    <tr>\n",
       "      <th>3</th>\n",
       "      <td>Binders</td>\n",
       "      <td>-4911.3644</td>\n",
       "      <td>3168.330</td>\n",
       "    </tr>\n",
       "    <tr>\n",
       "      <th>1</th>\n",
       "      <td>Appliances</td>\n",
       "      <td>-2224.2865</td>\n",
       "      <td>877.214</td>\n",
       "    </tr>\n",
       "    <tr>\n",
       "      <th>16</th>\n",
       "      <td>Tables</td>\n",
       "      <td>-1446.9305</td>\n",
       "      <td>2204.015</td>\n",
       "    </tr>\n",
       "    <tr>\n",
       "      <th>9</th>\n",
       "      <td>Furnishings</td>\n",
       "      <td>-1130.5897</td>\n",
       "      <td>1351.444</td>\n",
       "    </tr>\n",
       "    <tr>\n",
       "      <th>5</th>\n",
       "      <td>Chairs</td>\n",
       "      <td>-627.9509</td>\n",
       "      <td>6738.613</td>\n",
       "    </tr>\n",
       "    <tr>\n",
       "      <th>4</th>\n",
       "      <td>Bookcases</td>\n",
       "      <td>-310.9952</td>\n",
       "      <td>2201.150</td>\n",
       "    </tr>\n",
       "    <tr>\n",
       "      <th>14</th>\n",
       "      <td>Storage</td>\n",
       "      <td>-110.0504</td>\n",
       "      <td>6555.640</td>\n",
       "    </tr>\n",
       "  </tbody>\n",
       "</table>\n",
       "</div>"
      ],
      "text/plain": [
       "   Sub-Category     Profit     Sales\n",
       "3       Binders -4911.3644  3168.330\n",
       "1    Appliances -2224.2865   877.214\n",
       "16       Tables -1446.9305  2204.015\n",
       "9   Furnishings -1130.5897  1351.444\n",
       "5        Chairs  -627.9509  6738.613\n",
       "4     Bookcases  -310.9952  2201.150\n",
       "14      Storage  -110.0504  6555.640"
      ]
     },
     "execution_count": 44,
     "metadata": {},
     "output_type": "execute_result"
    }
   ],
   "source": [
    "Chicago = Illinois[Illinois['City'] == 'Chicago'].groupby('Sub-Category', as_index = False).sum()\n",
    "Chicago = Chicago[Chicago['Profit'] < 0].sort_values('Profit')\n",
    "Chicago"
   ]
  },
  {
   "cell_type": "code",
   "execution_count": 45,
   "metadata": {
    "scrolled": true
   },
   "outputs": [
    {
     "data": {
      "text/plain": [
       "Text(0.5, 1.0, 'Sales of Sub-Categories with loss in Chicago')"
      ]
     },
     "execution_count": 45,
     "metadata": {},
     "output_type": "execute_result"
    },
    {
     "data": {
      "image/png": "[encoded data removed]",
      "text/plain": [
       "<Figure size 432x288 with 1 Axes>"
      ]
     },
     "metadata": {
      "needs_background": "light"
     },
     "output_type": "display_data"
    }
   ],
   "source": [
    "sns.barplot(x = 'Sub-Category', y = 'Profit', data = Chicago);\n",
    "plt.title('Sales of Sub-Categories with loss in Chicago')"
   ]
  },
  {
   "cell_type": "markdown",
   "metadata": {},
   "source": [
    "* ##### In Chicago, more loss is made on binders"
   ]
  },
  {
   "cell_type": "code",
   "execution_count": 46,
   "metadata": {
    "scrolled": true
   },
   "outputs": [
    {
     "data": {
      "text/plain": [
       "Text(0.5, 1.0, 'Total Profit made in sales of Sub-Categories in Illinois')"
      ]
     },
     "execution_count": 46,
     "metadata": {},
     "output_type": "execute_result"
    },
    {
     "data": {
      "image/png": "[encoded data removed]",
      "text/plain": [
       "<Figure size 1368x360 with 1 Axes>"
      ]
     },
     "metadata": {
      "needs_background": "light"
     },
     "output_type": "display_data"
    }
   ],
   "source": [
    "Illinois_sort = Illinois.groupby('Sub-Category', as_index = False).sum().sort_values('Profit', ascending = False)\n",
    "plt.figure(figsize = (19,5))\n",
    "sns.barplot(x='Sub-Category',y ='Profit', data = Illinois_sort);\n",
    "plt.title('Total Profit made in sales of Sub-Categories in Illinois')"
   ]
  },
  {
   "cell_type": "code",
   "execution_count": 47,
   "metadata": {
    "scrolled": true
   },
   "outputs": [
    {
     "data": {
      "text/plain": [
       "Text(0.5, 1.0, 'Total Profit made in each Segment with respect to shipmode in Illinois')"
      ]
     },
     "execution_count": 47,
     "metadata": {},
     "output_type": "execute_result"
    },
    {
     "data": {
      "image/png": "[encoded data removed]",
      "text/plain": [
       "<Figure size 471.125x360 with 1 Axes>"
      ]
     },
     "metadata": {
      "needs_background": "light"
     },
     "output_type": "display_data"
    }
   ],
   "source": [
    "Illinois = data[data['State'] == 'Illinois']\n",
    "sns.catplot(x ='Segment', y= 'Profit', hue = 'Ship Mode', data = Illinois[['Ship Mode','Profit','Segment']][Illinois['Profit'] < 0], kind ='bar', ci =None, estimator = sum)\n",
    "plt.title('Total Profit made in each Segment with respect to shipmode in Illinois')"
   ]
  },
  {
   "cell_type": "markdown",
   "metadata": {},
   "source": [
    "### Conclusion:-\n",
    "* The areas that needs to be focused on are Houston, San-Antonio and Dallas in Texas, Lancaster in Ohio, Philadelphia in Pennsylvania, and Chicago in Illinois\n",
    "* Less profit is made in the Central region, it's a weaker region and more work needs tbe done to make more profit\n",
    "* More loss is made in office supplies category transported on Standard class ship mode\n",
    "* More loss is made in Consumer segment transported on Standard class ship mode\n",
    "* Less profit is made on Ship mode\n",
    "* In Houston, more loss is made in the sales of Binders and Appliances\n",
    "* In San-Antonio, more loss is made in the sales of Binders, Appliances and Machines\n",
    "* In Dallas, more loss is made in the sales of Binders\n",
    "* In Texas more profit is made in the sales of phones and loss is made in the sales of Binders\n",
    "* In Lancaster, more loss is made in the sales of Machines\n",
    "* In Ohio more profit is made in the sales of Accessories and loss is made in the sales of Machines\n",
    "* In Philadelphia, more loss is made in the sales of  phones and binders\n",
    "* In Pennsylvania more profit is made in the sales of Copiers and loss is made in the sales of Binders\n",
    "* In Chicago, more loss is made in the sales of  binders\n",
    "* In Illinois more profit is made in the sales of Copiers and loss is made in the sales of Binders\n"
   ]
  }
 ],
 "metadata": {
  "kernelspec": {
   "display_name": "Python 3",
   "language": "python",
   "name": "python3"
  },
  "language_info": {
   "codemirror_mode": {
    "name": "ipython",
    "version": 3
   },
   "file_extension": ".py",
   "mimetype": "text/x-python",
   "name": "python",
   "nbconvert_exporter": "python",
   "pygments_lexer": "ipython3",
   "version": "3.7.3"
  }
 },
 "nbformat": 4,
 "nbformat_minor": 2
}
